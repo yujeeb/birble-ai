{
  "nbformat": 4,
  "nbformat_minor": 0,
  "metadata": {
    "colab": {
      "provenance": [],
      "authorship_tag": "ABX9TyMpIQDRhKBa7MzDo5sOmHbt",
      "include_colab_link": true
    },
    "kernelspec": {
      "name": "python3",
      "display_name": "Python 3"
    },
    "language_info": {
      "name": "python"
    }
  },
  "cells": [
    {
      "cell_type": "markdown",
      "metadata": {
        "id": "view-in-github",
        "colab_type": "text"
      },
      "source": [
        "<a href=\"https://colab.research.google.com/github/yujeeb/pytorch-explorer/blob/main/00_pytorch_fundamentals.ipynb\" target=\"_parent\"><img src=\"https://colab.research.google.com/assets/colab-badge.svg\" alt=\"Open In Colab\"/></a>"
      ]
    },
    {
      "cell_type": "markdown",
      "source": [
        "# 00. PyTorch Fundamentals"
      ],
      "metadata": {
        "id": "PXxOaQiOJHzL"
      }
    },
    {
      "cell_type": "code",
      "execution_count": null,
      "metadata": {
        "colab": {
          "base_uri": "https://localhost:8080/"
        },
        "id": "VLLSeMnNIc97",
        "outputId": "904dfef2-e6fb-4d91-81dd-d6d613868b65"
      },
      "outputs": [
        {
          "output_type": "stream",
          "name": "stdout",
          "text": [
            "2.1.0+cu121\n"
          ]
        }
      ],
      "source": [
        "import torch\n",
        "import pandas as pd\n",
        "import numpy as np\n",
        "import matplotlib.pyplot as plt\n",
        "print(torch.__version__)"
      ]
    },
    {
      "cell_type": "code",
      "source": [
        "!nvidia-smi"
      ],
      "metadata": {
        "colab": {
          "base_uri": "https://localhost:8080/"
        },
        "id": "6LhqIBA4JCwo",
        "outputId": "7e18fb87-59db-4492-ebec-a1ad062d24a1"
      },
      "execution_count": null,
      "outputs": [
        {
          "output_type": "stream",
          "name": "stdout",
          "text": [
            "/bin/bash: line 1: nvidia-smi: command not found\n"
          ]
        }
      ]
    },
    {
      "cell_type": "markdown",
      "source": [
        "# Introduction to Tensors\n",
        "\n",
        "### Creating tensors\n",
        "\n",
        "PyTorch tensors are created using `torch.Tensor()`"
      ],
      "metadata": {
        "id": "qwdDHdGDK3QB"
      }
    },
    {
      "cell_type": "code",
      "source": [
        "# scalar\n",
        "scalar = torch.tensor(7)\n",
        "scalar"
      ],
      "metadata": {
        "colab": {
          "base_uri": "https://localhost:8080/"
        },
        "id": "Hl3HijZ7KQho",
        "outputId": "a83008ef-85da-4e1c-89e6-e5f534dc3b64"
      },
      "execution_count": null,
      "outputs": [
        {
          "output_type": "execute_result",
          "data": {
            "text/plain": [
              "tensor(7)"
            ]
          },
          "metadata": {},
          "execution_count": 3
        }
      ]
    },
    {
      "cell_type": "code",
      "source": [
        "scalar.ndim"
      ],
      "metadata": {
        "colab": {
          "base_uri": "https://localhost:8080/"
        },
        "id": "kjCPglMiLU1J",
        "outputId": "cc6e0d12-3008-470d-9d90-aaa6f643e962"
      },
      "execution_count": null,
      "outputs": [
        {
          "output_type": "execute_result",
          "data": {
            "text/plain": [
              "0"
            ]
          },
          "metadata": {},
          "execution_count": 4
        }
      ]
    },
    {
      "cell_type": "code",
      "source": [
        "# Get tensor back as Python int\n",
        "scalar.item()"
      ],
      "metadata": {
        "colab": {
          "base_uri": "https://localhost:8080/"
        },
        "id": "C63V-6U2L3w6",
        "outputId": "54a3b777-d26a-4d5d-e66a-6b88f19012ba"
      },
      "execution_count": null,
      "outputs": [
        {
          "output_type": "execute_result",
          "data": {
            "text/plain": [
              "7"
            ]
          },
          "metadata": {},
          "execution_count": 5
        }
      ]
    },
    {
      "cell_type": "code",
      "source": [
        "# Vector\n",
        "vector = torch.tensor([7,7])\n",
        "vector"
      ],
      "metadata": {
        "colab": {
          "base_uri": "https://localhost:8080/"
        },
        "id": "aIxKp7XFMFoX",
        "outputId": "317e1b50-daca-42d6-81ff-85a1a1101f24"
      },
      "execution_count": null,
      "outputs": [
        {
          "output_type": "execute_result",
          "data": {
            "text/plain": [
              "tensor([7, 7])"
            ]
          },
          "metadata": {},
          "execution_count": 6
        }
      ]
    },
    {
      "cell_type": "code",
      "source": [
        "vector.ndim"
      ],
      "metadata": {
        "colab": {
          "base_uri": "https://localhost:8080/"
        },
        "id": "C9XMojXRMZfK",
        "outputId": "e89dfc79-35af-4183-e535-49be6513d8e8"
      },
      "execution_count": null,
      "outputs": [
        {
          "output_type": "execute_result",
          "data": {
            "text/plain": [
              "1"
            ]
          },
          "metadata": {},
          "execution_count": 7
        }
      ]
    },
    {
      "cell_type": "code",
      "source": [
        "vector.shape"
      ],
      "metadata": {
        "colab": {
          "base_uri": "https://localhost:8080/"
        },
        "id": "RdFo3M_3ModR",
        "outputId": "4f32c2d1-a45c-4a33-d395-cc318cdfe0c5"
      },
      "execution_count": null,
      "outputs": [
        {
          "output_type": "execute_result",
          "data": {
            "text/plain": [
              "torch.Size([2])"
            ]
          },
          "metadata": {},
          "execution_count": 8
        }
      ]
    },
    {
      "cell_type": "code",
      "source": [
        "# MATRIX\n",
        "MATRIX = torch.tensor([[7, 8],\n",
        "                       [9, 10]])\n",
        "MATRIX"
      ],
      "metadata": {
        "colab": {
          "base_uri": "https://localhost:8080/"
        },
        "id": "uPpsihxTMtCr",
        "outputId": "e1f46301-c236-44c7-956a-de572aa5e5ee"
      },
      "execution_count": null,
      "outputs": [
        {
          "output_type": "execute_result",
          "data": {
            "text/plain": [
              "tensor([[ 7,  8],\n",
              "        [ 9, 10]])"
            ]
          },
          "metadata": {},
          "execution_count": 9
        }
      ]
    },
    {
      "cell_type": "code",
      "source": [
        "MATRIX.ndim"
      ],
      "metadata": {
        "colab": {
          "base_uri": "https://localhost:8080/"
        },
        "id": "3k8t-pyfM9Af",
        "outputId": "28518aee-ff4a-414a-c8ad-24e1031b8584"
      },
      "execution_count": null,
      "outputs": [
        {
          "output_type": "execute_result",
          "data": {
            "text/plain": [
              "2"
            ]
          },
          "metadata": {},
          "execution_count": 10
        }
      ]
    },
    {
      "cell_type": "code",
      "source": [
        "MATRIX[1]"
      ],
      "metadata": {
        "colab": {
          "base_uri": "https://localhost:8080/"
        },
        "id": "kiWqxWGyNDXV",
        "outputId": "e166099b-bec9-44ab-ab9d-891d5e87a25e"
      },
      "execution_count": null,
      "outputs": [
        {
          "output_type": "execute_result",
          "data": {
            "text/plain": [
              "tensor([ 9, 10])"
            ]
          },
          "metadata": {},
          "execution_count": 12
        }
      ]
    },
    {
      "cell_type": "code",
      "source": [
        "MATRIX.shape"
      ],
      "metadata": {
        "colab": {
          "base_uri": "https://localhost:8080/"
        },
        "id": "s9-2_n4NNMUG",
        "outputId": "e8c3e680-db3c-42d8-e5bf-f3e7af772750"
      },
      "execution_count": null,
      "outputs": [
        {
          "output_type": "execute_result",
          "data": {
            "text/plain": [
              "torch.Size([2, 2])"
            ]
          },
          "metadata": {},
          "execution_count": 13
        }
      ]
    },
    {
      "cell_type": "code",
      "source": [
        "# TENSOR\n",
        "TENSOR = torch.tensor([[[1, 2, 3],\n",
        "                        [3, 6, 9],\n",
        "                        [2, 5, 4]]])\n",
        "\n",
        "TENSOR"
      ],
      "metadata": {
        "colab": {
          "base_uri": "https://localhost:8080/"
        },
        "id": "iGm81fMVNTq3",
        "outputId": "6047348f-a013-48e7-8448-11783760df2e"
      },
      "execution_count": null,
      "outputs": [
        {
          "output_type": "execute_result",
          "data": {
            "text/plain": [
              "tensor([[[1, 2, 3],\n",
              "         [3, 6, 9],\n",
              "         [2, 5, 4]]])"
            ]
          },
          "metadata": {},
          "execution_count": 14
        }
      ]
    },
    {
      "cell_type": "code",
      "source": [
        "TENSOR.ndim"
      ],
      "metadata": {
        "colab": {
          "base_uri": "https://localhost:8080/"
        },
        "id": "FNWh-v5tNmQU",
        "outputId": "806b2777-6bbb-4d8b-83f9-9e1579b6f561"
      },
      "execution_count": null,
      "outputs": [
        {
          "output_type": "execute_result",
          "data": {
            "text/plain": [
              "3"
            ]
          },
          "metadata": {},
          "execution_count": 15
        }
      ]
    },
    {
      "cell_type": "code",
      "source": [
        "TENSOR.shape"
      ],
      "metadata": {
        "colab": {
          "base_uri": "https://localhost:8080/"
        },
        "id": "8ol4VAzZN13O",
        "outputId": "ed51a826-c0ac-48b2-8448-123cdf91a352"
      },
      "execution_count": null,
      "outputs": [
        {
          "output_type": "execute_result",
          "data": {
            "text/plain": [
              "torch.Size([1, 3, 3])"
            ]
          },
          "metadata": {},
          "execution_count": 16
        }
      ]
    },
    {
      "cell_type": "code",
      "source": [
        "TENSOR[0]"
      ],
      "metadata": {
        "colab": {
          "base_uri": "https://localhost:8080/"
        },
        "id": "dF5CJauZN3YD",
        "outputId": "2d67edce-9ca5-4486-acd1-2fad4d7a7ef3"
      },
      "execution_count": null,
      "outputs": [
        {
          "output_type": "execute_result",
          "data": {
            "text/plain": [
              "tensor([[1, 2, 3],\n",
              "        [3, 6, 9],\n",
              "        [2, 5, 4]])"
            ]
          },
          "metadata": {},
          "execution_count": 17
        }
      ]
    },
    {
      "cell_type": "markdown",
      "source": [
        "## Practice"
      ],
      "metadata": {
        "id": "gzOlOEB4ORRB"
      }
    },
    {
      "cell_type": "code",
      "source": [
        "myTensor = torch.Tensor([[[12, 69, 43],\n",
        "                          [12, 12, 12],\n",
        "                          [65, 4, 1]],\n",
        "                         [[2, 56, 12],\n",
        "                          [43, 9, 0],\n",
        "                          [12, 65, 14]]])\n",
        "myTensor"
      ],
      "metadata": {
        "colab": {
          "base_uri": "https://localhost:8080/"
        },
        "id": "N6PQ3S6NOw19",
        "outputId": "e394e09c-f4fd-4994-d8c1-86834b970e22"
      },
      "execution_count": null,
      "outputs": [
        {
          "output_type": "execute_result",
          "data": {
            "text/plain": [
              "tensor([[[12., 69., 43.],\n",
              "         [12., 12., 12.],\n",
              "         [65.,  4.,  1.]],\n",
              "\n",
              "        [[ 2., 56., 12.],\n",
              "         [43.,  9.,  0.],\n",
              "         [12., 65., 14.]]])"
            ]
          },
          "metadata": {},
          "execution_count": 19
        }
      ]
    },
    {
      "cell_type": "code",
      "source": [
        "myTensor.ndim"
      ],
      "metadata": {
        "colab": {
          "base_uri": "https://localhost:8080/"
        },
        "id": "4wIO1o45PW0u",
        "outputId": "ce86c275-ee49-4875-fe69-7c13da44fdc9"
      },
      "execution_count": null,
      "outputs": [
        {
          "output_type": "execute_result",
          "data": {
            "text/plain": [
              "3"
            ]
          },
          "metadata": {},
          "execution_count": 20
        }
      ]
    },
    {
      "cell_type": "code",
      "source": [
        "myTensor.shape"
      ],
      "metadata": {
        "colab": {
          "base_uri": "https://localhost:8080/"
        },
        "id": "THYuNbA1Pg5U",
        "outputId": "9e8e001b-db15-49f0-deee-42f90bc3210f"
      },
      "execution_count": null,
      "outputs": [
        {
          "output_type": "execute_result",
          "data": {
            "text/plain": [
              "torch.Size([2, 3, 3])"
            ]
          },
          "metadata": {},
          "execution_count": 21
        }
      ]
    },
    {
      "cell_type": "code",
      "source": [
        "myTensor[1]"
      ],
      "metadata": {
        "colab": {
          "base_uri": "https://localhost:8080/"
        },
        "id": "CnekDW-gPjbJ",
        "outputId": "80bea565-44de-4acd-e589-f2f0d4e36efa"
      },
      "execution_count": null,
      "outputs": [
        {
          "output_type": "execute_result",
          "data": {
            "text/plain": [
              "tensor([[ 2., 56., 12.],\n",
              "        [43.,  9.,  0.],\n",
              "        [12., 65., 14.]])"
            ]
          },
          "metadata": {},
          "execution_count": 23
        }
      ]
    },
    {
      "cell_type": "markdown",
      "source": [
        "### Random tensors\n",
        "\n",
        "Why random tensors?\n",
        "\n",
        "Random tensors are important because the way many neural networks learn is that they start with tensors full of random numbers and then adjust those random numbers to better represent the data.\n",
        "\n",
        "`Start with random numbers -> look at data -> update random numbers -> look at data -> update random numbers`\n",
        "\n",
        "Torch random tensors - https://pytorch.org/docs/stable/generated/torch.rand.html"
      ],
      "metadata": {
        "id": "swxJKE3DPmdb"
      }
    },
    {
      "cell_type": "code",
      "source": [
        "# Create a random tensor of size (3, 4)\n",
        "random_tensor = torch.rand(3, 4)\n",
        "random_tensor"
      ],
      "metadata": {
        "colab": {
          "base_uri": "https://localhost:8080/"
        },
        "id": "o9Gq3XVxQN2X",
        "outputId": "f732f04d-13e5-4dc5-a6bd-c54f28a9eced"
      },
      "execution_count": null,
      "outputs": [
        {
          "output_type": "execute_result",
          "data": {
            "text/plain": [
              "tensor([[0.8259, 0.6239, 0.3448, 0.6286],\n",
              "        [0.6400, 0.5343, 0.2568, 0.8010],\n",
              "        [0.7459, 0.2338, 0.8263, 0.4558]])"
            ]
          },
          "metadata": {},
          "execution_count": 32
        }
      ]
    },
    {
      "cell_type": "code",
      "source": [
        "# Create a random tensor with similar shape to an image tensor\n",
        "random_image_size_tensor = torch.rand(size=(224, 224, 3)) # height, width, color channels (R, G, B)\n",
        "random_image_size_tensor.shape, random_image_size_tensor.ndim"
      ],
      "metadata": {
        "colab": {
          "base_uri": "https://localhost:8080/"
        },
        "id": "Syy_cA2bRBUG",
        "outputId": "fe5c24e8-5a79-4255-b039-0cf39ce924a4"
      },
      "execution_count": null,
      "outputs": [
        {
          "output_type": "execute_result",
          "data": {
            "text/plain": [
              "(torch.Size([224, 224, 3]), 3)"
            ]
          },
          "metadata": {},
          "execution_count": 34
        }
      ]
    },
    {
      "cell_type": "code",
      "source": [
        "# Practice\n",
        "\n",
        "my_random_tensor = torch.rand(5, 12, 14)\n",
        "my_random_tensor"
      ],
      "metadata": {
        "colab": {
          "base_uri": "https://localhost:8080/"
        },
        "id": "mHLw5UlPRF72",
        "outputId": "76fa18c7-1816-4466-d71f-dcb6bf9cc3a3"
      },
      "execution_count": null,
      "outputs": [
        {
          "output_type": "execute_result",
          "data": {
            "text/plain": [
              "tensor([[[4.1090e-01, 2.1092e-01, 3.3342e-02, 2.2580e-01, 2.6218e-02,\n",
              "          7.0328e-01, 1.2519e-01, 9.3264e-01, 8.2299e-01, 6.3311e-01,\n",
              "          8.3268e-01, 9.5801e-01, 3.8289e-01, 9.0466e-01],\n",
              "         [7.2704e-01, 7.6531e-01, 4.2706e-01, 9.7550e-02, 6.5335e-02,\n",
              "          9.9792e-01, 3.4284e-01, 7.8602e-01, 6.3695e-01, 5.1295e-01,\n",
              "          7.2949e-01, 6.8522e-01, 5.1917e-01, 6.9255e-01],\n",
              "         [3.1628e-01, 6.3819e-01, 4.8443e-01, 7.9433e-02, 4.6412e-01,\n",
              "          7.5974e-01, 9.2243e-01, 3.8126e-01, 6.6016e-01, 8.4509e-01,\n",
              "          9.1940e-01, 5.9840e-01, 4.3055e-01, 7.3992e-01],\n",
              "         [2.4850e-01, 4.9697e-01, 7.5454e-01, 3.5583e-01, 6.1921e-01,\n",
              "          2.3402e-01, 9.4785e-02, 5.7577e-01, 2.5785e-01, 2.9173e-01,\n",
              "          9.9971e-01, 5.8621e-01, 3.4106e-01, 3.5091e-01],\n",
              "         [6.9769e-01, 8.1544e-01, 5.4433e-01, 3.7908e-01, 8.3041e-01,\n",
              "          8.4839e-01, 3.9450e-01, 9.1194e-01, 9.8155e-01, 4.0453e-01,\n",
              "          3.1473e-01, 1.9801e-01, 7.3442e-01, 4.3278e-01],\n",
              "         [9.2080e-01, 9.5957e-01, 1.1841e-01, 4.3790e-01, 4.8706e-01,\n",
              "          3.0019e-01, 3.2234e-01, 1.4997e-01, 9.1107e-01, 7.3200e-01,\n",
              "          3.3949e-02, 8.8957e-01, 2.5667e-01, 6.8032e-01],\n",
              "         [6.6359e-01, 9.0142e-01, 7.0938e-01, 6.1592e-01, 7.0088e-01,\n",
              "          8.0217e-01, 8.3392e-01, 4.2103e-01, 7.8373e-01, 3.7891e-01,\n",
              "          7.4180e-01, 8.7205e-02, 9.4442e-02, 8.4948e-01],\n",
              "         [9.4777e-01, 4.7077e-01, 1.8189e-01, 8.8869e-01, 7.0369e-01,\n",
              "          8.7892e-01, 8.1894e-01, 7.5672e-01, 2.7488e-01, 7.1234e-01,\n",
              "          6.4167e-01, 8.7542e-01, 7.3304e-01, 8.3274e-01],\n",
              "         [8.8065e-01, 7.8998e-01, 2.8713e-01, 2.7765e-01, 8.6924e-01,\n",
              "          4.4075e-01, 3.3582e-01, 3.7615e-01, 1.3372e-02, 4.1585e-01,\n",
              "          9.8332e-01, 7.5929e-01, 2.7677e-01, 8.6481e-01],\n",
              "         [1.5803e-01, 5.4794e-01, 7.0455e-01, 3.3904e-03, 1.7878e-01,\n",
              "          1.9724e-01, 4.9279e-01, 4.9072e-01, 6.5678e-01, 8.6497e-01,\n",
              "          4.7185e-01, 3.4116e-02, 6.9490e-01, 5.1242e-01],\n",
              "         [4.5849e-01, 8.0029e-01, 7.3120e-01, 5.4829e-01, 7.4132e-02,\n",
              "          4.0196e-01, 9.3214e-01, 3.2881e-01, 7.4551e-01, 8.7468e-01,\n",
              "          3.1950e-01, 4.3679e-01, 7.6850e-01, 4.6331e-01],\n",
              "         [7.9490e-01, 7.7413e-02, 7.0542e-01, 5.5821e-01, 3.7280e-01,\n",
              "          4.3811e-01, 5.3408e-01, 9.9036e-01, 3.1610e-01, 1.3310e-01,\n",
              "          9.4404e-01, 1.1855e-01, 8.8929e-01, 7.5954e-01]],\n",
              "\n",
              "        [[6.4658e-01, 7.6331e-01, 6.8360e-01, 7.3553e-01, 8.6033e-01,\n",
              "          5.0744e-01, 3.5907e-01, 5.7957e-01, 8.5065e-01, 7.5190e-01,\n",
              "          1.2792e-01, 6.3468e-02, 5.9420e-01, 7.1428e-01],\n",
              "         [8.6489e-01, 4.4269e-01, 4.2958e-01, 3.3146e-01, 9.7881e-01,\n",
              "          3.3548e-01, 5.0387e-01, 9.3730e-01, 2.5066e-01, 6.5237e-02,\n",
              "          9.8604e-01, 5.5067e-01, 6.2623e-01, 8.1426e-01],\n",
              "         [2.0780e-01, 2.2616e-01, 2.4901e-01, 8.1912e-01, 2.0744e-01,\n",
              "          9.5782e-01, 8.8019e-01, 2.8218e-01, 5.9813e-01, 7.0389e-01,\n",
              "          3.0474e-01, 4.2343e-01, 6.6260e-01, 2.3997e-01],\n",
              "         [9.7323e-01, 2.6686e-01, 2.2056e-01, 4.7579e-01, 6.2982e-02,\n",
              "          4.2609e-01, 8.1018e-01, 3.8026e-01, 9.4530e-01, 2.5975e-01,\n",
              "          7.1056e-01, 8.6184e-02, 8.5683e-01, 4.6048e-01],\n",
              "         [5.1509e-01, 6.7381e-01, 2.3621e-02, 6.2014e-01, 5.5239e-01,\n",
              "          3.0119e-02, 3.5551e-01, 9.4526e-01, 2.0906e-01, 9.3578e-01,\n",
              "          3.1936e-01, 4.7743e-01, 3.9708e-01, 2.6022e-01],\n",
              "         [6.7291e-01, 5.3881e-01, 3.1809e-01, 2.9134e-01, 1.3739e-01,\n",
              "          6.8795e-01, 2.0868e-04, 9.8568e-01, 1.9967e-01, 1.9147e-01,\n",
              "          6.1797e-01, 5.7009e-01, 9.2912e-02, 5.7489e-01],\n",
              "         [4.0156e-01, 7.0559e-02, 9.0063e-01, 3.0310e-01, 6.4039e-01,\n",
              "          1.4539e-01, 6.7282e-01, 5.3955e-01, 1.7592e-01, 8.1790e-01,\n",
              "          3.7902e-01, 6.3091e-01, 9.9439e-01, 8.6548e-01],\n",
              "         [4.1770e-01, 1.4787e-02, 6.4938e-01, 6.1876e-01, 7.6047e-01,\n",
              "          7.0321e-01, 6.1164e-01, 8.6804e-01, 8.6190e-01, 6.6081e-01,\n",
              "          2.1147e-02, 7.8651e-01, 3.4755e-01, 3.7173e-01],\n",
              "         [8.7047e-01, 6.6920e-01, 5.6863e-02, 8.6355e-01, 4.8286e-02,\n",
              "          9.6544e-01, 8.0950e-01, 7.2615e-01, 2.1304e-02, 4.7332e-01,\n",
              "          2.4336e-01, 4.0110e-01, 6.3911e-01, 2.1315e-01],\n",
              "         [8.5932e-01, 6.8368e-01, 6.8364e-01, 8.8709e-01, 8.8823e-01,\n",
              "          3.4331e-01, 3.8120e-01, 7.6371e-01, 2.9288e-02, 3.2709e-01,\n",
              "          6.1199e-01, 7.3066e-01, 1.1987e-01, 8.5525e-01],\n",
              "         [6.6802e-01, 9.5736e-01, 8.9881e-01, 3.1094e-01, 1.7424e-01,\n",
              "          3.0886e-01, 8.6701e-01, 4.3751e-01, 4.0168e-01, 7.6157e-01,\n",
              "          9.5738e-01, 7.7792e-01, 2.7429e-01, 2.3682e-02],\n",
              "         [3.5522e-02, 3.4763e-01, 9.8237e-01, 8.9228e-01, 5.7603e-01,\n",
              "          6.5948e-01, 5.8035e-02, 7.1920e-01, 8.0804e-02, 1.6022e-01,\n",
              "          1.9923e-01, 4.6423e-01, 1.6273e-01, 4.5751e-01]],\n",
              "\n",
              "        [[5.3455e-01, 7.9267e-01, 9.8864e-01, 3.1360e-01, 1.7735e-01,\n",
              "          2.2348e-01, 1.0046e-01, 5.1065e-01, 7.2543e-01, 2.3046e-01,\n",
              "          1.3434e-01, 5.2074e-01, 1.1324e-01, 4.5423e-01],\n",
              "         [9.4776e-01, 4.1283e-01, 2.7671e-01, 1.7577e-01, 1.7540e-01,\n",
              "          4.4371e-01, 3.4198e-01, 9.9796e-01, 4.3609e-01, 3.9758e-01,\n",
              "          1.4907e-01, 8.4680e-01, 9.8277e-01, 5.5952e-01],\n",
              "         [4.2019e-01, 7.0628e-01, 7.2562e-01, 4.7753e-02, 2.3627e-02,\n",
              "          3.7422e-01, 1.3216e-01, 9.6374e-01, 6.0105e-01, 3.6043e-01,\n",
              "          5.2638e-01, 4.0291e-01, 2.7004e-01, 9.0994e-01],\n",
              "         [2.4968e-01, 1.9609e-02, 4.5931e-01, 2.3490e-01, 3.1962e-01,\n",
              "          4.8761e-01, 5.3525e-01, 1.1268e-01, 7.4855e-01, 8.3269e-01,\n",
              "          8.0140e-01, 5.9963e-01, 6.4097e-01, 1.2981e-01],\n",
              "         [8.0520e-01, 5.5441e-01, 9.5524e-01, 3.8628e-01, 3.6513e-02,\n",
              "          2.8382e-01, 4.6991e-01, 4.1675e-01, 8.5971e-01, 3.8532e-02,\n",
              "          8.9061e-01, 3.7244e-01, 8.7407e-02, 6.0317e-01],\n",
              "         [3.9207e-01, 7.7724e-01, 8.4817e-01, 2.6795e-01, 7.7080e-01,\n",
              "          1.3898e-02, 9.2649e-01, 3.8313e-01, 1.3445e-01, 4.0671e-01,\n",
              "          2.2037e-01, 3.0460e-01, 1.8316e-01, 5.9921e-01],\n",
              "         [6.1591e-01, 6.3328e-01, 3.2442e-01, 2.2702e-01, 3.2404e-01,\n",
              "          7.8238e-01, 8.0300e-01, 6.5819e-01, 9.9772e-01, 6.4046e-01,\n",
              "          6.5239e-01, 7.6757e-01, 5.1068e-01, 6.3594e-01],\n",
              "         [8.9203e-01, 7.5961e-01, 9.2013e-02, 6.9859e-01, 7.0804e-02,\n",
              "          4.9499e-01, 4.7810e-01, 8.0366e-01, 4.6882e-01, 7.7815e-01,\n",
              "          6.5764e-01, 8.5421e-01, 9.1277e-01, 8.3010e-01],\n",
              "         [5.8276e-01, 1.2788e-01, 2.7517e-01, 7.4494e-01, 5.1667e-01,\n",
              "          7.1649e-01, 9.9730e-01, 3.4263e-01, 4.1997e-02, 6.4110e-01,\n",
              "          1.2444e-01, 7.2536e-01, 3.8807e-02, 1.5173e-01],\n",
              "         [2.0650e-01, 7.8692e-02, 8.6129e-01, 1.9576e-01, 9.9753e-01,\n",
              "          9.0786e-01, 3.5661e-02, 1.6027e-01, 8.9910e-01, 3.4871e-01,\n",
              "          3.5759e-01, 4.0862e-02, 8.4059e-02, 4.0363e-01],\n",
              "         [5.3097e-01, 3.1906e-01, 6.8503e-01, 1.7858e-01, 9.7921e-01,\n",
              "          7.7618e-01, 4.4622e-01, 7.4393e-01, 6.2460e-01, 8.6642e-01,\n",
              "          4.9992e-02, 9.5041e-02, 8.9227e-01, 4.1990e-01],\n",
              "         [1.8202e-01, 5.8328e-01, 8.0009e-01, 4.5397e-01, 6.2701e-02,\n",
              "          8.0585e-01, 7.9335e-01, 7.8104e-01, 3.0081e-01, 2.7125e-01,\n",
              "          2.8947e-02, 4.7303e-01, 1.9587e-01, 2.6933e-01]],\n",
              "\n",
              "        [[3.9221e-01, 9.9885e-01, 7.5824e-01, 1.0381e-01, 2.6883e-01,\n",
              "          5.9116e-01, 9.9580e-01, 5.6584e-01, 3.7600e-01, 7.9061e-01,\n",
              "          7.0077e-01, 3.3748e-01, 5.7086e-01, 2.7052e-01],\n",
              "         [1.2121e-01, 3.7675e-01, 2.7009e-01, 5.5084e-01, 5.5623e-01,\n",
              "          1.7961e-01, 1.1206e-01, 3.4510e-01, 9.5850e-01, 7.8195e-01,\n",
              "          2.2953e-01, 9.2187e-01, 9.1172e-01, 1.1470e-01],\n",
              "         [3.3915e-01, 5.3071e-01, 1.4149e-01, 3.4137e-01, 8.8253e-01,\n",
              "          1.2051e-01, 3.6538e-05, 2.5243e-01, 5.4424e-01, 1.7211e-01,\n",
              "          6.4481e-01, 2.8913e-01, 9.9827e-01, 2.3384e-01],\n",
              "         [5.6979e-01, 5.7506e-01, 9.4490e-01, 5.2513e-01, 9.9272e-01,\n",
              "          1.9423e-01, 8.1180e-01, 6.3811e-01, 2.0978e-01, 1.0045e-02,\n",
              "          2.3325e-02, 6.3322e-01, 3.6887e-01, 7.0926e-02],\n",
              "         [7.7709e-01, 9.7586e-01, 1.4162e-01, 7.6359e-01, 2.1740e-01,\n",
              "          2.5186e-01, 3.6792e-01, 7.0782e-01, 8.4444e-01, 1.4807e-01,\n",
              "          2.7244e-01, 6.2256e-01, 4.6687e-01, 6.2488e-01],\n",
              "         [8.7255e-02, 6.6820e-01, 8.5547e-03, 1.5241e-01, 8.8948e-01,\n",
              "          6.8075e-02, 8.5461e-01, 9.9137e-01, 5.7214e-01, 1.0153e-01,\n",
              "          4.6661e-01, 7.1908e-01, 4.1211e-01, 3.4550e-01],\n",
              "         [6.7505e-01, 9.5495e-01, 6.7882e-01, 3.7152e-01, 5.5001e-01,\n",
              "          6.3777e-01, 5.7446e-01, 2.7982e-02, 6.6097e-01, 8.0452e-01,\n",
              "          9.0406e-01, 3.9137e-02, 1.2318e-01, 1.8391e-01],\n",
              "         [4.5679e-01, 5.9176e-01, 3.2223e-01, 8.4507e-01, 1.2232e-01,\n",
              "          2.6324e-01, 2.3514e-01, 4.2662e-01, 7.5561e-01, 5.7288e-01,\n",
              "          6.0111e-01, 1.3586e-01, 6.0008e-01, 9.6367e-01],\n",
              "         [9.9615e-01, 8.2213e-02, 2.9644e-01, 4.3985e-01, 8.0192e-01,\n",
              "          8.4639e-02, 1.7339e-01, 5.5880e-01, 7.5760e-01, 4.7287e-01,\n",
              "          8.1777e-01, 9.0520e-01, 9.4305e-01, 1.8487e-01],\n",
              "         [9.3335e-01, 8.9385e-01, 2.4560e-01, 6.4761e-01, 7.2865e-02,\n",
              "          5.9927e-01, 6.1439e-01, 4.3066e-01, 3.8091e-01, 2.3551e-01,\n",
              "          3.4971e-01, 6.9762e-01, 8.2924e-01, 2.2346e-01],\n",
              "         [9.8372e-01, 2.0963e-01, 8.3896e-02, 6.3855e-02, 5.7979e-01,\n",
              "          8.9079e-01, 7.5211e-01, 3.3920e-02, 4.0029e-01, 9.7779e-01,\n",
              "          3.9121e-01, 8.7731e-02, 9.4357e-01, 6.6796e-01],\n",
              "         [7.5615e-01, 2.7671e-01, 3.8977e-01, 5.2651e-01, 1.8165e-01,\n",
              "          1.7637e-01, 4.1390e-01, 5.2786e-02, 4.7935e-01, 8.5022e-01,\n",
              "          7.5915e-01, 7.9638e-01, 7.0883e-02, 2.1905e-01]],\n",
              "\n",
              "        [[8.8029e-02, 3.7510e-01, 1.2740e-01, 7.7005e-01, 1.7773e-01,\n",
              "          4.5890e-01, 9.1097e-01, 8.5481e-01, 4.6029e-01, 9.7187e-01,\n",
              "          1.2516e-01, 8.6888e-01, 7.5009e-01, 9.2028e-02],\n",
              "         [7.1126e-01, 7.7420e-01, 6.7221e-01, 2.0224e-01, 5.1514e-02,\n",
              "          2.0394e-01, 5.8180e-01, 3.7483e-01, 1.6657e-01, 4.3688e-01,\n",
              "          5.4266e-01, 3.8615e-01, 6.0289e-01, 4.8669e-01],\n",
              "         [8.6306e-01, 7.2361e-01, 3.3550e-01, 8.7461e-02, 6.0220e-02,\n",
              "          2.5614e-01, 5.2927e-01, 4.6237e-01, 4.4541e-01, 6.8126e-02,\n",
              "          2.3714e-01, 9.4931e-01, 3.0797e-01, 6.7465e-01],\n",
              "         [7.5288e-01, 7.1289e-01, 6.0096e-01, 8.6202e-01, 9.1464e-01,\n",
              "          4.3081e-01, 8.4762e-01, 4.1928e-01, 4.1007e-01, 6.6800e-02,\n",
              "          1.6962e-01, 5.8054e-01, 6.6300e-01, 8.5904e-01],\n",
              "         [4.3866e-01, 6.6260e-01, 9.1632e-01, 7.7494e-01, 7.5774e-01,\n",
              "          3.1264e-01, 4.9728e-01, 9.5239e-01, 4.5867e-01, 4.8852e-01,\n",
              "          3.4197e-01, 5.3295e-01, 7.7732e-01, 3.1635e-02],\n",
              "         [5.9511e-02, 6.8309e-01, 1.6532e-01, 2.3951e-01, 9.0660e-02,\n",
              "          6.1414e-01, 7.2809e-01, 8.8828e-01, 2.5369e-01, 4.7011e-01,\n",
              "          4.9290e-01, 4.3819e-01, 1.2577e-01, 2.7117e-01],\n",
              "         [7.6002e-01, 1.7942e-02, 3.4511e-01, 9.3622e-01, 8.4104e-01,\n",
              "          6.9291e-01, 8.9899e-01, 2.2515e-01, 6.5672e-01, 8.2065e-01,\n",
              "          4.7907e-01, 5.9136e-01, 6.1532e-01, 8.2406e-01],\n",
              "         [6.3127e-01, 8.4991e-02, 9.3056e-01, 6.2732e-01, 6.9202e-01,\n",
              "          1.9559e-01, 1.9675e-01, 3.2726e-01, 3.3720e-01, 1.5688e-01,\n",
              "          4.2830e-01, 3.9189e-01, 8.0799e-01, 5.6012e-01],\n",
              "         [8.9201e-02, 3.5691e-01, 5.0845e-01, 2.3511e-01, 9.2231e-01,\n",
              "          8.7754e-01, 8.0402e-01, 7.8227e-01, 2.4903e-01, 4.9826e-01,\n",
              "          4.7541e-03, 6.8920e-03, 2.5820e-01, 2.9733e-01],\n",
              "         [7.9176e-01, 9.7765e-01, 9.0836e-01, 8.3468e-03, 2.0222e-01,\n",
              "          5.0834e-01, 3.8873e-01, 9.4493e-01, 1.0877e-01, 9.5685e-01,\n",
              "          7.9101e-02, 1.9562e-02, 4.1274e-02, 1.4370e-01],\n",
              "         [2.7098e-01, 3.9599e-01, 2.8989e-01, 2.7331e-01, 3.2769e-01,\n",
              "          4.1448e-01, 9.5528e-01, 3.0738e-01, 5.1449e-01, 7.6338e-01,\n",
              "          6.2397e-01, 5.5490e-01, 9.5352e-01, 1.3388e-01],\n",
              "         [7.4658e-02, 6.7589e-01, 5.8325e-01, 6.3022e-01, 7.4081e-01,\n",
              "          3.2497e-01, 7.5748e-01, 2.8748e-01, 7.4780e-01, 4.6775e-01,\n",
              "          6.1249e-01, 2.9564e-01, 5.0674e-01, 6.8212e-01]]])"
            ]
          },
          "metadata": {},
          "execution_count": 36
        }
      ]
    },
    {
      "cell_type": "markdown",
      "source": [
        "## Zeros and ones"
      ],
      "metadata": {
        "id": "aRIaD9O8SZy2"
      }
    },
    {
      "cell_type": "code",
      "source": [
        "# Create a tensor of all zeros\n",
        "zeros = torch.zeros(size=(3, 4))\n",
        "zeros"
      ],
      "metadata": {
        "colab": {
          "base_uri": "https://localhost:8080/"
        },
        "id": "P23-e-fcSs34",
        "outputId": "6f8b0c83-535a-461b-b972-472684252f43"
      },
      "execution_count": null,
      "outputs": [
        {
          "output_type": "execute_result",
          "data": {
            "text/plain": [
              "tensor([[0., 0., 0., 0.],\n",
              "        [0., 0., 0., 0.],\n",
              "        [0., 0., 0., 0.]])"
            ]
          },
          "metadata": {},
          "execution_count": 38
        }
      ]
    },
    {
      "cell_type": "code",
      "source": [
        "# Create a tensor of all ones\n",
        "ones = torch.ones(size=(3, 4))\n",
        "ones"
      ],
      "metadata": {
        "colab": {
          "base_uri": "https://localhost:8080/"
        },
        "id": "w0rTCfJ4Sy6c",
        "outputId": "241fffe5-dc20-4ba8-fd55-555caceeddd2"
      },
      "execution_count": null,
      "outputs": [
        {
          "output_type": "execute_result",
          "data": {
            "text/plain": [
              "tensor([[1., 1., 1., 1.],\n",
              "        [1., 1., 1., 1.],\n",
              "        [1., 1., 1., 1.]])"
            ]
          },
          "metadata": {},
          "execution_count": 40
        }
      ]
    },
    {
      "cell_type": "code",
      "source": [
        "ones.dtype"
      ],
      "metadata": {
        "colab": {
          "base_uri": "https://localhost:8080/"
        },
        "id": "6VWWajlSS3JN",
        "outputId": "a1705b30-074f-4ef6-86bf-a01cb9b8f36f"
      },
      "execution_count": null,
      "outputs": [
        {
          "output_type": "execute_result",
          "data": {
            "text/plain": [
              "torch.float32"
            ]
          },
          "metadata": {},
          "execution_count": 42
        }
      ]
    },
    {
      "cell_type": "code",
      "source": [
        "random_tensor.dtype"
      ],
      "metadata": {
        "colab": {
          "base_uri": "https://localhost:8080/"
        },
        "id": "BB5nA3AeTH8y",
        "outputId": "563a73fc-77fc-4e7d-f5cd-8b2c42ed8c9b"
      },
      "execution_count": null,
      "outputs": [
        {
          "output_type": "execute_result",
          "data": {
            "text/plain": [
              "torch.float32"
            ]
          },
          "metadata": {},
          "execution_count": 43
        }
      ]
    },
    {
      "cell_type": "code",
      "source": [
        "# Practice\n",
        "\n",
        "my_zeros = torch.zeros(size=(10, 10))\n",
        "my_ones = torch.ones(size=(5, 12, 14))\n",
        "\n",
        "my_zeros, my_ones"
      ],
      "metadata": {
        "colab": {
          "base_uri": "https://localhost:8080/"
        },
        "id": "4MjTrd5WTLGO",
        "outputId": "3d5d531b-65e3-4cf0-9d31-7e5ec5d413cd"
      },
      "execution_count": null,
      "outputs": [
        {
          "output_type": "execute_result",
          "data": {
            "text/plain": [
              "(tensor([[0., 0., 0., 0., 0., 0., 0., 0., 0., 0.],\n",
              "         [0., 0., 0., 0., 0., 0., 0., 0., 0., 0.],\n",
              "         [0., 0., 0., 0., 0., 0., 0., 0., 0., 0.],\n",
              "         [0., 0., 0., 0., 0., 0., 0., 0., 0., 0.],\n",
              "         [0., 0., 0., 0., 0., 0., 0., 0., 0., 0.],\n",
              "         [0., 0., 0., 0., 0., 0., 0., 0., 0., 0.],\n",
              "         [0., 0., 0., 0., 0., 0., 0., 0., 0., 0.],\n",
              "         [0., 0., 0., 0., 0., 0., 0., 0., 0., 0.],\n",
              "         [0., 0., 0., 0., 0., 0., 0., 0., 0., 0.],\n",
              "         [0., 0., 0., 0., 0., 0., 0., 0., 0., 0.]]),\n",
              " tensor([[[1., 1., 1., 1., 1., 1., 1., 1., 1., 1., 1., 1., 1., 1.],\n",
              "          [1., 1., 1., 1., 1., 1., 1., 1., 1., 1., 1., 1., 1., 1.],\n",
              "          [1., 1., 1., 1., 1., 1., 1., 1., 1., 1., 1., 1., 1., 1.],\n",
              "          [1., 1., 1., 1., 1., 1., 1., 1., 1., 1., 1., 1., 1., 1.],\n",
              "          [1., 1., 1., 1., 1., 1., 1., 1., 1., 1., 1., 1., 1., 1.],\n",
              "          [1., 1., 1., 1., 1., 1., 1., 1., 1., 1., 1., 1., 1., 1.],\n",
              "          [1., 1., 1., 1., 1., 1., 1., 1., 1., 1., 1., 1., 1., 1.],\n",
              "          [1., 1., 1., 1., 1., 1., 1., 1., 1., 1., 1., 1., 1., 1.],\n",
              "          [1., 1., 1., 1., 1., 1., 1., 1., 1., 1., 1., 1., 1., 1.],\n",
              "          [1., 1., 1., 1., 1., 1., 1., 1., 1., 1., 1., 1., 1., 1.],\n",
              "          [1., 1., 1., 1., 1., 1., 1., 1., 1., 1., 1., 1., 1., 1.],\n",
              "          [1., 1., 1., 1., 1., 1., 1., 1., 1., 1., 1., 1., 1., 1.]],\n",
              " \n",
              "         [[1., 1., 1., 1., 1., 1., 1., 1., 1., 1., 1., 1., 1., 1.],\n",
              "          [1., 1., 1., 1., 1., 1., 1., 1., 1., 1., 1., 1., 1., 1.],\n",
              "          [1., 1., 1., 1., 1., 1., 1., 1., 1., 1., 1., 1., 1., 1.],\n",
              "          [1., 1., 1., 1., 1., 1., 1., 1., 1., 1., 1., 1., 1., 1.],\n",
              "          [1., 1., 1., 1., 1., 1., 1., 1., 1., 1., 1., 1., 1., 1.],\n",
              "          [1., 1., 1., 1., 1., 1., 1., 1., 1., 1., 1., 1., 1., 1.],\n",
              "          [1., 1., 1., 1., 1., 1., 1., 1., 1., 1., 1., 1., 1., 1.],\n",
              "          [1., 1., 1., 1., 1., 1., 1., 1., 1., 1., 1., 1., 1., 1.],\n",
              "          [1., 1., 1., 1., 1., 1., 1., 1., 1., 1., 1., 1., 1., 1.],\n",
              "          [1., 1., 1., 1., 1., 1., 1., 1., 1., 1., 1., 1., 1., 1.],\n",
              "          [1., 1., 1., 1., 1., 1., 1., 1., 1., 1., 1., 1., 1., 1.],\n",
              "          [1., 1., 1., 1., 1., 1., 1., 1., 1., 1., 1., 1., 1., 1.]],\n",
              " \n",
              "         [[1., 1., 1., 1., 1., 1., 1., 1., 1., 1., 1., 1., 1., 1.],\n",
              "          [1., 1., 1., 1., 1., 1., 1., 1., 1., 1., 1., 1., 1., 1.],\n",
              "          [1., 1., 1., 1., 1., 1., 1., 1., 1., 1., 1., 1., 1., 1.],\n",
              "          [1., 1., 1., 1., 1., 1., 1., 1., 1., 1., 1., 1., 1., 1.],\n",
              "          [1., 1., 1., 1., 1., 1., 1., 1., 1., 1., 1., 1., 1., 1.],\n",
              "          [1., 1., 1., 1., 1., 1., 1., 1., 1., 1., 1., 1., 1., 1.],\n",
              "          [1., 1., 1., 1., 1., 1., 1., 1., 1., 1., 1., 1., 1., 1.],\n",
              "          [1., 1., 1., 1., 1., 1., 1., 1., 1., 1., 1., 1., 1., 1.],\n",
              "          [1., 1., 1., 1., 1., 1., 1., 1., 1., 1., 1., 1., 1., 1.],\n",
              "          [1., 1., 1., 1., 1., 1., 1., 1., 1., 1., 1., 1., 1., 1.],\n",
              "          [1., 1., 1., 1., 1., 1., 1., 1., 1., 1., 1., 1., 1., 1.],\n",
              "          [1., 1., 1., 1., 1., 1., 1., 1., 1., 1., 1., 1., 1., 1.]],\n",
              " \n",
              "         [[1., 1., 1., 1., 1., 1., 1., 1., 1., 1., 1., 1., 1., 1.],\n",
              "          [1., 1., 1., 1., 1., 1., 1., 1., 1., 1., 1., 1., 1., 1.],\n",
              "          [1., 1., 1., 1., 1., 1., 1., 1., 1., 1., 1., 1., 1., 1.],\n",
              "          [1., 1., 1., 1., 1., 1., 1., 1., 1., 1., 1., 1., 1., 1.],\n",
              "          [1., 1., 1., 1., 1., 1., 1., 1., 1., 1., 1., 1., 1., 1.],\n",
              "          [1., 1., 1., 1., 1., 1., 1., 1., 1., 1., 1., 1., 1., 1.],\n",
              "          [1., 1., 1., 1., 1., 1., 1., 1., 1., 1., 1., 1., 1., 1.],\n",
              "          [1., 1., 1., 1., 1., 1., 1., 1., 1., 1., 1., 1., 1., 1.],\n",
              "          [1., 1., 1., 1., 1., 1., 1., 1., 1., 1., 1., 1., 1., 1.],\n",
              "          [1., 1., 1., 1., 1., 1., 1., 1., 1., 1., 1., 1., 1., 1.],\n",
              "          [1., 1., 1., 1., 1., 1., 1., 1., 1., 1., 1., 1., 1., 1.],\n",
              "          [1., 1., 1., 1., 1., 1., 1., 1., 1., 1., 1., 1., 1., 1.]],\n",
              " \n",
              "         [[1., 1., 1., 1., 1., 1., 1., 1., 1., 1., 1., 1., 1., 1.],\n",
              "          [1., 1., 1., 1., 1., 1., 1., 1., 1., 1., 1., 1., 1., 1.],\n",
              "          [1., 1., 1., 1., 1., 1., 1., 1., 1., 1., 1., 1., 1., 1.],\n",
              "          [1., 1., 1., 1., 1., 1., 1., 1., 1., 1., 1., 1., 1., 1.],\n",
              "          [1., 1., 1., 1., 1., 1., 1., 1., 1., 1., 1., 1., 1., 1.],\n",
              "          [1., 1., 1., 1., 1., 1., 1., 1., 1., 1., 1., 1., 1., 1.],\n",
              "          [1., 1., 1., 1., 1., 1., 1., 1., 1., 1., 1., 1., 1., 1.],\n",
              "          [1., 1., 1., 1., 1., 1., 1., 1., 1., 1., 1., 1., 1., 1.],\n",
              "          [1., 1., 1., 1., 1., 1., 1., 1., 1., 1., 1., 1., 1., 1.],\n",
              "          [1., 1., 1., 1., 1., 1., 1., 1., 1., 1., 1., 1., 1., 1.],\n",
              "          [1., 1., 1., 1., 1., 1., 1., 1., 1., 1., 1., 1., 1., 1.],\n",
              "          [1., 1., 1., 1., 1., 1., 1., 1., 1., 1., 1., 1., 1., 1.]]]))"
            ]
          },
          "metadata": {},
          "execution_count": 48
        }
      ]
    },
    {
      "cell_type": "markdown",
      "source": [
        "### Creating a range of tensor and tensors-like"
      ],
      "metadata": {
        "id": "mQQLx9DXTZ_f"
      }
    },
    {
      "cell_type": "code",
      "source": [
        "# Use torch.range() and get deprecated message, use torch.arange()\n",
        "one_to_ten = torch.arange(start=1, end=11, step=1)\n",
        "one_to_ten"
      ],
      "metadata": {
        "colab": {
          "base_uri": "https://localhost:8080/"
        },
        "id": "luZq_ZfnT-lg",
        "outputId": "a7131a17-0979-4607-f4b6-71ae0ece630c"
      },
      "execution_count": null,
      "outputs": [
        {
          "output_type": "execute_result",
          "data": {
            "text/plain": [
              "tensor([ 1,  2,  3,  4,  5,  6,  7,  8,  9, 10])"
            ]
          },
          "metadata": {},
          "execution_count": 54
        }
      ]
    },
    {
      "cell_type": "code",
      "source": [
        "# Creating tensors like\n",
        "ten_zeros = torch.zeros_like(input=one_to_ten)\n",
        "ten_zeros"
      ],
      "metadata": {
        "colab": {
          "base_uri": "https://localhost:8080/"
        },
        "id": "OwNRvrh4UC71",
        "outputId": "79f5ade2-171f-4910-922c-1ab371f298d9"
      },
      "execution_count": null,
      "outputs": [
        {
          "output_type": "execute_result",
          "data": {
            "text/plain": [
              "tensor([0, 0, 0, 0, 0, 0, 0, 0, 0, 0])"
            ]
          },
          "metadata": {},
          "execution_count": 55
        }
      ]
    },
    {
      "cell_type": "markdown",
      "source": [
        "### Tensor datatypes\n",
        "\n",
        "**Note:** Tensor datatypes is one of the 3 big errors you'll run into with PyTorch & deep learning:\n",
        "1. Tensors not right datatype\n",
        "2. Tensors not right shape\n",
        "3. Tensors not on the right device"
      ],
      "metadata": {
        "id": "0B8VhdU5UtYa"
      }
    },
    {
      "cell_type": "code",
      "source": [
        "# Float 32 tensor\n",
        "float_32_tensor = torch.tensor([3.0, 6.0, 9.0],\n",
        "                               dtype=None, # what datatype is the tensor (e.g. float32 or float16)\n",
        "                               device=None, # What device is your tensor on\n",
        "                               requires_grad=False) # whether or not to track gradients with this tensors operations\n",
        "float_32_tensor"
      ],
      "metadata": {
        "colab": {
          "base_uri": "https://localhost:8080/"
        },
        "id": "572gcxURVPgd",
        "outputId": "6c3e0777-d2d1-460b-e0ee-e07c4b2909d8"
      },
      "execution_count": null,
      "outputs": [
        {
          "output_type": "execute_result",
          "data": {
            "text/plain": [
              "tensor([3., 6., 9.])"
            ]
          },
          "metadata": {},
          "execution_count": 61
        }
      ]
    },
    {
      "cell_type": "code",
      "source": [
        "float_32_tensor.dtype"
      ],
      "metadata": {
        "colab": {
          "base_uri": "https://localhost:8080/"
        },
        "id": "JMY2vpmYVa41",
        "outputId": "3e128b81-c853-4fa9-92e3-d9e86db7c6f5"
      },
      "execution_count": null,
      "outputs": [
        {
          "output_type": "execute_result",
          "data": {
            "text/plain": [
              "torch.float32"
            ]
          },
          "metadata": {},
          "execution_count": 62
        }
      ]
    },
    {
      "cell_type": "code",
      "source": [
        "float_16_tensor = float_32_tensor.type(torch.float16)\n",
        "float_16_tensor"
      ],
      "metadata": {
        "colab": {
          "base_uri": "https://localhost:8080/"
        },
        "id": "FSVyl-SZVeua",
        "outputId": "4cc001fb-03ab-414a-b27d-97c5f6763622"
      },
      "execution_count": null,
      "outputs": [
        {
          "output_type": "execute_result",
          "data": {
            "text/plain": [
              "tensor([3., 6., 9.], dtype=torch.float16)"
            ]
          },
          "metadata": {},
          "execution_count": 63
        }
      ]
    },
    {
      "cell_type": "markdown",
      "source": [
        "#### Practice"
      ],
      "metadata": {
        "id": "vOXRvY89Xc-o"
      }
    },
    {
      "cell_type": "code",
      "source": [],
      "metadata": {
        "id": "JmEWbqkkXtrq"
      },
      "execution_count": null,
      "outputs": []
    }
  ]
}