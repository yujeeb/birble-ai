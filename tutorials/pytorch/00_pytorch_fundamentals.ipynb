{
  "cells": [
    {
      "cell_type": "markdown",
      "metadata": {
        "id": "view-in-github",
        "colab_type": "text"
      },
      "source": [
        "<a href=\"https://colab.research.google.com/github/yujeeb/pytorch-explorer/blob/main/00_pytorch_fundamentals.ipynb\" target=\"_parent\"><img src=\"https://colab.research.google.com/assets/colab-badge.svg\" alt=\"Open In Colab\"/></a>"
      ]
    },
    {
      "cell_type": "markdown",
      "metadata": {
        "id": "PXxOaQiOJHzL"
      },
      "source": [
        "# 00. PyTorch Fundamentals"
      ]
    },
    {
      "cell_type": "code",
      "execution_count": null,
      "metadata": {
        "colab": {
          "base_uri": "https://localhost:8080/"
        },
        "id": "VLLSeMnNIc97",
        "outputId": "25d1810a-2ffb-49a0-dfb2-688557885e91"
      },
      "outputs": [
        {
          "output_type": "stream",
          "name": "stdout",
          "text": [
            "2.1.0+cu121\n"
          ]
        }
      ],
      "source": [
        "import torch\n",
        "import pandas as pd\n",
        "import numpy as np\n",
        "import matplotlib.pyplot as plt\n",
        "print(torch.__version__)"
      ]
    },
    {
      "cell_type": "code",
      "execution_count": null,
      "metadata": {
        "colab": {
          "base_uri": "https://localhost:8080/"
        },
        "id": "6LhqIBA4JCwo",
        "outputId": "bbe0dbf7-345d-4f2d-a557-ae5212bf0476"
      },
      "outputs": [
        {
          "output_type": "stream",
          "name": "stdout",
          "text": [
            "/bin/bash: line 1: nvidia-smi: command not found\n"
          ]
        }
      ],
      "source": [
        "!nvidia-smi"
      ]
    },
    {
      "cell_type": "markdown",
      "metadata": {
        "id": "qwdDHdGDK3QB"
      },
      "source": [
        "# Introduction to Tensors\n",
        "\n",
        "### Creating tensors\n",
        "\n",
        "PyTorch tensors are created using `torch.Tensor()`"
      ]
    },
    {
      "cell_type": "code",
      "execution_count": null,
      "metadata": {
        "colab": {
          "base_uri": "https://localhost:8080/"
        },
        "id": "Hl3HijZ7KQho",
        "outputId": "90e3d826-baa1-4b2c-fa94-7dec8ac41f4a"
      },
      "outputs": [
        {
          "output_type": "execute_result",
          "data": {
            "text/plain": [
              "tensor(7)"
            ]
          },
          "metadata": {},
          "execution_count": 3
        }
      ],
      "source": [
        "# scalar\n",
        "scalar = torch.tensor(7)\n",
        "scalar"
      ]
    },
    {
      "cell_type": "code",
      "execution_count": null,
      "metadata": {
        "colab": {
          "base_uri": "https://localhost:8080/"
        },
        "id": "kjCPglMiLU1J",
        "outputId": "5c928ce1-beb9-492d-bb10-95e9f29fb07c"
      },
      "outputs": [
        {
          "output_type": "execute_result",
          "data": {
            "text/plain": [
              "0"
            ]
          },
          "metadata": {},
          "execution_count": 4
        }
      ],
      "source": [
        "scalar.ndim"
      ]
    },
    {
      "cell_type": "code",
      "execution_count": null,
      "metadata": {
        "colab": {
          "base_uri": "https://localhost:8080/"
        },
        "id": "C63V-6U2L3w6",
        "outputId": "1658f506-e2f0-4012-8b94-71d148807bcb"
      },
      "outputs": [
        {
          "output_type": "execute_result",
          "data": {
            "text/plain": [
              "7"
            ]
          },
          "metadata": {},
          "execution_count": 5
        }
      ],
      "source": [
        "# Get tensor back as Python int\n",
        "scalar.item()"
      ]
    },
    {
      "cell_type": "code",
      "execution_count": null,
      "metadata": {
        "colab": {
          "base_uri": "https://localhost:8080/"
        },
        "id": "aIxKp7XFMFoX",
        "outputId": "7aea4c18-f5a2-485e-99c4-4fd03f609d77"
      },
      "outputs": [
        {
          "output_type": "execute_result",
          "data": {
            "text/plain": [
              "tensor([7, 7])"
            ]
          },
          "metadata": {},
          "execution_count": 6
        }
      ],
      "source": [
        "# Vector\n",
        "vector = torch.tensor([7,7])\n",
        "vector"
      ]
    },
    {
      "cell_type": "code",
      "execution_count": null,
      "metadata": {
        "colab": {
          "base_uri": "https://localhost:8080/"
        },
        "id": "C9XMojXRMZfK",
        "outputId": "94da9f64-b50f-45ef-ff42-0bbac2aeda68"
      },
      "outputs": [
        {
          "output_type": "execute_result",
          "data": {
            "text/plain": [
              "1"
            ]
          },
          "metadata": {},
          "execution_count": 7
        }
      ],
      "source": [
        "vector.ndim"
      ]
    },
    {
      "cell_type": "code",
      "execution_count": null,
      "metadata": {
        "colab": {
          "base_uri": "https://localhost:8080/"
        },
        "id": "RdFo3M_3ModR",
        "outputId": "e1b2d520-53fe-49dc-9687-f0582d24f33b"
      },
      "outputs": [
        {
          "output_type": "execute_result",
          "data": {
            "text/plain": [
              "torch.Size([2])"
            ]
          },
          "metadata": {},
          "execution_count": 8
        }
      ],
      "source": [
        "vector.shape"
      ]
    },
    {
      "cell_type": "code",
      "execution_count": null,
      "metadata": {
        "colab": {
          "base_uri": "https://localhost:8080/"
        },
        "id": "uPpsihxTMtCr",
        "outputId": "30b1e3f7-6929-4be3-c4e9-01ce6a0fb981"
      },
      "outputs": [
        {
          "output_type": "execute_result",
          "data": {
            "text/plain": [
              "tensor([[ 7,  8],\n",
              "        [ 9, 10]])"
            ]
          },
          "metadata": {},
          "execution_count": 9
        }
      ],
      "source": [
        "# MATRIX\n",
        "MATRIX = torch.tensor([[7, 8],\n",
        "                       [9, 10]])\n",
        "MATRIX"
      ]
    },
    {
      "cell_type": "code",
      "execution_count": null,
      "metadata": {
        "colab": {
          "base_uri": "https://localhost:8080/"
        },
        "id": "3k8t-pyfM9Af",
        "outputId": "b6fb0ef5-2818-459f-f7bc-ac3299ae89ae"
      },
      "outputs": [
        {
          "output_type": "execute_result",
          "data": {
            "text/plain": [
              "2"
            ]
          },
          "metadata": {},
          "execution_count": 10
        }
      ],
      "source": [
        "MATRIX.ndim"
      ]
    },
    {
      "cell_type": "code",
      "execution_count": null,
      "metadata": {
        "colab": {
          "base_uri": "https://localhost:8080/"
        },
        "id": "kiWqxWGyNDXV",
        "outputId": "b819376d-ad38-4a01-bc25-96f9f64ad0e4"
      },
      "outputs": [
        {
          "output_type": "execute_result",
          "data": {
            "text/plain": [
              "tensor([ 9, 10])"
            ]
          },
          "metadata": {},
          "execution_count": 11
        }
      ],
      "source": [
        "MATRIX[1]"
      ]
    },
    {
      "cell_type": "code",
      "execution_count": null,
      "metadata": {
        "colab": {
          "base_uri": "https://localhost:8080/"
        },
        "id": "s9-2_n4NNMUG",
        "outputId": "a4bdfd3a-da9c-47d0-981c-9b691dc3f327"
      },
      "outputs": [
        {
          "output_type": "execute_result",
          "data": {
            "text/plain": [
              "torch.Size([2, 2])"
            ]
          },
          "metadata": {},
          "execution_count": 12
        }
      ],
      "source": [
        "MATRIX.shape"
      ]
    },
    {
      "cell_type": "code",
      "execution_count": null,
      "metadata": {
        "colab": {
          "base_uri": "https://localhost:8080/"
        },
        "id": "iGm81fMVNTq3",
        "outputId": "2b26cb2a-5e4b-470e-8141-75c6b0e25057"
      },
      "outputs": [
        {
          "output_type": "execute_result",
          "data": {
            "text/plain": [
              "tensor([[[1, 2, 3],\n",
              "         [3, 6, 9],\n",
              "         [2, 5, 4]]])"
            ]
          },
          "metadata": {},
          "execution_count": 13
        }
      ],
      "source": [
        "# TENSOR\n",
        "TENSOR = torch.tensor([[[1, 2, 3],\n",
        "                        [3, 6, 9],\n",
        "                        [2, 5, 4]]])\n",
        "\n",
        "TENSOR"
      ]
    },
    {
      "cell_type": "code",
      "execution_count": null,
      "metadata": {
        "colab": {
          "base_uri": "https://localhost:8080/"
        },
        "id": "FNWh-v5tNmQU",
        "outputId": "15f9d0ef-2092-42ef-830e-600ecf2174d5"
      },
      "outputs": [
        {
          "output_type": "execute_result",
          "data": {
            "text/plain": [
              "3"
            ]
          },
          "metadata": {},
          "execution_count": 14
        }
      ],
      "source": [
        "TENSOR.ndim"
      ]
    },
    {
      "cell_type": "code",
      "execution_count": null,
      "metadata": {
        "colab": {
          "base_uri": "https://localhost:8080/"
        },
        "id": "8ol4VAzZN13O",
        "outputId": "9f0fa567-defb-4d31-ab33-fb487210b94e"
      },
      "outputs": [
        {
          "output_type": "execute_result",
          "data": {
            "text/plain": [
              "torch.Size([1, 3, 3])"
            ]
          },
          "metadata": {},
          "execution_count": 15
        }
      ],
      "source": [
        "TENSOR.shape"
      ]
    },
    {
      "cell_type": "code",
      "execution_count": null,
      "metadata": {
        "colab": {
          "base_uri": "https://localhost:8080/"
        },
        "id": "dF5CJauZN3YD",
        "outputId": "47a596c2-8d50-45c1-e61e-75b34f8cd7d0"
      },
      "outputs": [
        {
          "output_type": "execute_result",
          "data": {
            "text/plain": [
              "tensor([[1, 2, 3],\n",
              "        [3, 6, 9],\n",
              "        [2, 5, 4]])"
            ]
          },
          "metadata": {},
          "execution_count": 16
        }
      ],
      "source": [
        "TENSOR[0]"
      ]
    },
    {
      "cell_type": "markdown",
      "metadata": {
        "id": "gzOlOEB4ORRB"
      },
      "source": [
        "## Practice"
      ]
    },
    {
      "cell_type": "code",
      "execution_count": null,
      "metadata": {
        "colab": {
          "base_uri": "https://localhost:8080/"
        },
        "id": "N6PQ3S6NOw19",
        "outputId": "981be641-94e7-4926-86f8-a242e7ddcd0e"
      },
      "outputs": [
        {
          "output_type": "execute_result",
          "data": {
            "text/plain": [
              "tensor([[[12., 69., 43.],\n",
              "         [12., 12., 12.],\n",
              "         [65.,  4.,  1.]],\n",
              "\n",
              "        [[ 2., 56., 12.],\n",
              "         [43.,  9.,  0.],\n",
              "         [12., 65., 14.]]])"
            ]
          },
          "metadata": {},
          "execution_count": 17
        }
      ],
      "source": [
        "myTensor = torch.Tensor([[[12, 69, 43],\n",
        "                          [12, 12, 12],\n",
        "                          [65, 4, 1]],\n",
        "                         [[2, 56, 12],\n",
        "                          [43, 9, 0],\n",
        "                          [12, 65, 14]]])\n",
        "myTensor"
      ]
    },
    {
      "cell_type": "code",
      "execution_count": null,
      "metadata": {
        "colab": {
          "base_uri": "https://localhost:8080/"
        },
        "id": "4wIO1o45PW0u",
        "outputId": "368b8590-b35a-4aae-e5b3-a001d23cb1bf"
      },
      "outputs": [
        {
          "output_type": "execute_result",
          "data": {
            "text/plain": [
              "3"
            ]
          },
          "metadata": {},
          "execution_count": 18
        }
      ],
      "source": [
        "myTensor.ndim"
      ]
    },
    {
      "cell_type": "code",
      "execution_count": null,
      "metadata": {
        "colab": {
          "base_uri": "https://localhost:8080/"
        },
        "id": "THYuNbA1Pg5U",
        "outputId": "9ccf66a8-59bc-47b2-ff7b-7b58bdbc3191"
      },
      "outputs": [
        {
          "output_type": "execute_result",
          "data": {
            "text/plain": [
              "torch.Size([2, 3, 3])"
            ]
          },
          "metadata": {},
          "execution_count": 19
        }
      ],
      "source": [
        "myTensor.shape"
      ]
    },
    {
      "cell_type": "code",
      "execution_count": null,
      "metadata": {
        "colab": {
          "base_uri": "https://localhost:8080/"
        },
        "id": "CnekDW-gPjbJ",
        "outputId": "2c33cd17-472d-44d4-a16e-e8039bf8c80b"
      },
      "outputs": [
        {
          "output_type": "execute_result",
          "data": {
            "text/plain": [
              "tensor([[ 2., 56., 12.],\n",
              "        [43.,  9.,  0.],\n",
              "        [12., 65., 14.]])"
            ]
          },
          "metadata": {},
          "execution_count": 20
        }
      ],
      "source": [
        "myTensor[1]"
      ]
    },
    {
      "cell_type": "markdown",
      "metadata": {
        "id": "swxJKE3DPmdb"
      },
      "source": [
        "### Random tensors\n",
        "\n",
        "Why random tensors?\n",
        "\n",
        "Random tensors are important because the way many neural networks learn is that they start with tensors full of random numbers and then adjust those random numbers to better represent the data.\n",
        "\n",
        "`Start with random numbers -> look at data -> update random numbers -> look at data -> update random numbers`\n",
        "\n",
        "Torch random tensors - https://pytorch.org/docs/stable/generated/torch.rand.html"
      ]
    },
    {
      "cell_type": "code",
      "execution_count": null,
      "metadata": {
        "colab": {
          "base_uri": "https://localhost:8080/"
        },
        "id": "o9Gq3XVxQN2X",
        "outputId": "566e1be4-0c5c-4566-c285-97e3051dd086"
      },
      "outputs": [
        {
          "output_type": "execute_result",
          "data": {
            "text/plain": [
              "tensor([[0.1281, 0.6357, 0.8071, 0.1299],\n",
              "        [0.9771, 0.2443, 0.0375, 0.7716],\n",
              "        [0.1979, 0.5371, 0.8052, 0.3664]])"
            ]
          },
          "metadata": {},
          "execution_count": 21
        }
      ],
      "source": [
        "# Create a random tensor of size (3, 4)\n",
        "random_tensor = torch.rand(3, 4)\n",
        "random_tensor"
      ]
    },
    {
      "cell_type": "code",
      "execution_count": null,
      "metadata": {
        "colab": {
          "base_uri": "https://localhost:8080/"
        },
        "id": "Syy_cA2bRBUG",
        "outputId": "45388614-4d20-40cd-b392-fd4418957ef4"
      },
      "outputs": [
        {
          "output_type": "execute_result",
          "data": {
            "text/plain": [
              "(torch.Size([224, 224, 3]), 3)"
            ]
          },
          "metadata": {},
          "execution_count": 22
        }
      ],
      "source": [
        "# Create a random tensor with similar shape to an image tensor\n",
        "random_image_size_tensor = torch.rand(size=(224, 224, 3)) # height, width, color channels (R, G, B)\n",
        "random_image_size_tensor.shape, random_image_size_tensor.ndim"
      ]
    },
    {
      "cell_type": "code",
      "execution_count": null,
      "metadata": {
        "colab": {
          "base_uri": "https://localhost:8080/"
        },
        "id": "mHLw5UlPRF72",
        "outputId": "bc326e8e-c663-4811-fafe-79dcab235685"
      },
      "outputs": [
        {
          "output_type": "execute_result",
          "data": {
            "text/plain": [
              "tensor([[[4.2159e-01, 6.7370e-01, 5.3089e-01, 9.4309e-01, 1.9996e-01,\n",
              "          6.5195e-01, 5.3056e-01, 3.9180e-01, 6.4554e-01, 6.1984e-01,\n",
              "          8.6580e-01, 7.8343e-01, 6.5150e-01, 2.0231e-01],\n",
              "         [6.6151e-01, 8.2681e-01, 6.2890e-01, 4.3694e-01, 2.1074e-01,\n",
              "          6.4334e-01, 8.0834e-01, 5.0110e-01, 2.6807e-01, 5.7786e-01,\n",
              "          3.3178e-02, 8.7369e-01, 5.2464e-01, 5.8209e-01],\n",
              "         [6.1317e-01, 8.8172e-01, 9.5058e-01, 6.7248e-01, 7.8406e-01,\n",
              "          1.5476e-01, 9.6306e-03, 8.6667e-01, 4.1930e-01, 6.3753e-01,\n",
              "          2.8833e-01, 3.2340e-01, 1.7728e-01, 7.8953e-01],\n",
              "         [9.0019e-01, 4.3169e-01, 9.3758e-01, 3.1346e-01, 5.3447e-01,\n",
              "          9.9152e-01, 8.0580e-01, 2.1702e-01, 5.7867e-01, 4.4523e-01,\n",
              "          1.3508e-01, 7.7459e-01, 6.8827e-01, 1.3404e-01],\n",
              "         [4.1550e-01, 6.2015e-02, 6.7124e-01, 7.4786e-01, 2.0534e-02,\n",
              "          1.7821e-01, 3.8041e-01, 8.8264e-01, 4.8670e-01, 1.6484e-01,\n",
              "          9.4130e-01, 9.7335e-01, 8.2263e-01, 6.1974e-01],\n",
              "         [6.1570e-01, 7.4880e-01, 8.4257e-01, 9.8690e-01, 2.4581e-01,\n",
              "          6.2588e-01, 8.7640e-01, 2.6212e-01, 6.0677e-01, 1.4605e-01,\n",
              "          7.9450e-01, 2.6061e-01, 9.6224e-01, 7.7767e-01],\n",
              "         [1.8121e-01, 7.4036e-01, 9.4319e-01, 5.0062e-01, 7.6262e-01,\n",
              "          6.1961e-01, 1.4808e-01, 7.5379e-01, 1.7356e-01, 6.8855e-01,\n",
              "          3.6183e-02, 5.1013e-01, 3.7776e-01, 2.7320e-01],\n",
              "         [1.5792e-01, 9.6767e-01, 2.9188e-01, 7.8282e-01, 5.3139e-02,\n",
              "          8.4944e-01, 2.2594e-01, 4.1425e-01, 1.5129e-01, 7.9123e-01,\n",
              "          6.4165e-01, 2.2349e-01, 7.2814e-02, 2.4132e-01],\n",
              "         [6.3435e-01, 5.1465e-01, 3.0505e-01, 2.9468e-01, 7.7132e-01,\n",
              "          8.8610e-01, 8.5658e-02, 2.5980e-01, 7.8120e-01, 6.0197e-01,\n",
              "          8.0991e-01, 3.8591e-01, 3.5413e-01, 1.2041e-02],\n",
              "         [4.2146e-01, 4.4682e-01, 5.8094e-02, 3.8646e-01, 2.3512e-01,\n",
              "          5.9387e-01, 4.8729e-01, 8.7216e-01, 7.5249e-01, 9.6474e-01,\n",
              "          4.4407e-01, 7.4645e-01, 3.6416e-01, 9.5999e-01],\n",
              "         [6.9605e-01, 3.8298e-01, 7.9085e-01, 6.1674e-01, 5.0239e-01,\n",
              "          9.5142e-01, 2.9257e-01, 3.3518e-02, 1.3477e-01, 2.4336e-01,\n",
              "          2.5413e-01, 4.2607e-01, 8.9680e-01, 8.6586e-01],\n",
              "         [8.6103e-01, 8.1885e-01, 5.8496e-01, 1.1202e-01, 4.3127e-01,\n",
              "          6.7372e-01, 8.9894e-01, 4.2882e-01, 8.5312e-01, 5.5369e-01,\n",
              "          2.8256e-01, 4.6795e-01, 9.2244e-01, 9.6739e-03]],\n",
              "\n",
              "        [[2.4113e-01, 2.3216e-01, 8.0235e-01, 9.3563e-02, 1.8900e-01,\n",
              "          7.5474e-01, 6.9385e-01, 1.7756e-01, 5.3351e-01, 5.8206e-01,\n",
              "          3.6645e-01, 3.8675e-01, 8.2947e-01, 1.8548e-01],\n",
              "         [5.6693e-01, 1.9781e-01, 4.7309e-01, 8.3991e-01, 2.8310e-01,\n",
              "          8.6353e-01, 3.8163e-01, 6.4410e-01, 3.8493e-01, 4.7364e-01,\n",
              "          8.7771e-01, 8.1319e-01, 9.6217e-01, 2.8190e-02],\n",
              "         [4.2239e-01, 1.7910e-01, 5.8244e-01, 8.6427e-01, 7.1351e-01,\n",
              "          5.2103e-02, 8.8168e-02, 2.1892e-01, 5.6609e-01, 3.8797e-01,\n",
              "          8.7433e-01, 1.8360e-02, 4.2471e-01, 1.2396e-01],\n",
              "         [4.3805e-01, 5.9416e-01, 3.0084e-01, 6.8878e-01, 8.4475e-02,\n",
              "          9.1623e-01, 8.6895e-01, 1.4001e-01, 9.1047e-01, 3.4207e-01,\n",
              "          1.3423e-01, 5.1174e-02, 9.1971e-03, 4.2488e-02],\n",
              "         [4.1972e-02, 9.2098e-01, 5.3490e-01, 5.5073e-01, 3.8834e-01,\n",
              "          6.5489e-01, 4.1103e-01, 9.3130e-01, 7.9000e-01, 3.5214e-01,\n",
              "          5.2509e-01, 1.3432e-01, 9.3899e-01, 4.0454e-01],\n",
              "         [7.0131e-01, 6.3577e-01, 6.2359e-01, 6.3729e-01, 5.0049e-01,\n",
              "          7.3821e-01, 3.4890e-01, 5.8670e-01, 2.2084e-01, 2.0751e-01,\n",
              "          6.2795e-01, 3.6134e-02, 4.7296e-01, 6.9905e-02],\n",
              "         [1.0439e-01, 3.8267e-02, 3.9038e-01, 3.6547e-01, 7.0288e-01,\n",
              "          7.3215e-02, 7.3735e-01, 3.0514e-01, 4.0949e-01, 1.5085e-01,\n",
              "          4.3378e-01, 1.2943e-01, 4.8357e-02, 7.3399e-02],\n",
              "         [7.7264e-01, 4.2516e-01, 1.8068e-01, 1.8247e-01, 6.2076e-02,\n",
              "          3.6434e-01, 4.9784e-02, 6.8062e-01, 3.3936e-01, 6.2654e-01,\n",
              "          5.5431e-01, 9.3340e-01, 6.2829e-01, 7.0342e-01],\n",
              "         [6.1745e-01, 9.7256e-01, 8.5721e-01, 7.2530e-01, 4.7304e-01,\n",
              "          2.6866e-01, 7.1306e-01, 6.4593e-01, 2.5097e-01, 1.5945e-01,\n",
              "          8.6374e-01, 2.4419e-01, 3.0079e-01, 6.9788e-03],\n",
              "         [1.4160e-01, 3.1052e-01, 5.4911e-02, 3.6834e-01, 6.8487e-02,\n",
              "          1.7270e-01, 2.2207e-02, 4.4746e-01, 5.5158e-01, 1.0530e-01,\n",
              "          1.6963e-01, 2.0087e-01, 4.2525e-01, 8.2226e-01],\n",
              "         [6.9386e-01, 7.7899e-01, 4.6803e-01, 3.2935e-01, 4.6817e-01,\n",
              "          2.1722e-01, 3.9520e-01, 5.0226e-01, 3.7675e-01, 7.2481e-02,\n",
              "          3.5703e-01, 5.2294e-02, 6.4095e-01, 8.1432e-01],\n",
              "         [6.2246e-01, 8.5021e-01, 2.8868e-01, 3.3365e-01, 7.1163e-01,\n",
              "          6.4566e-01, 4.7551e-01, 8.9104e-01, 9.2192e-01, 1.6740e-01,\n",
              "          8.0667e-01, 1.3057e-01, 9.9180e-01, 4.2176e-01]],\n",
              "\n",
              "        [[2.1359e-01, 1.8583e-01, 6.3038e-01, 2.1427e-02, 1.3854e-01,\n",
              "          1.2421e-01, 8.6464e-01, 6.1026e-01, 8.9449e-01, 5.1279e-01,\n",
              "          8.2492e-01, 3.6370e-01, 4.8676e-01, 9.5776e-01],\n",
              "         [6.3217e-01, 8.1854e-01, 4.4973e-01, 4.3587e-01, 4.3483e-01,\n",
              "          4.4737e-01, 1.9949e-01, 3.1562e-01, 2.3371e-01, 2.1720e-01,\n",
              "          9.9921e-01, 8.5827e-01, 6.6995e-01, 1.4402e-01],\n",
              "         [9.5806e-01, 7.1530e-01, 9.7741e-01, 8.2498e-01, 7.6165e-01,\n",
              "          3.0372e-01, 4.1053e-02, 5.1091e-01, 5.2681e-01, 2.1544e-02,\n",
              "          7.2693e-03, 3.1324e-01, 3.5979e-02, 1.0106e-01],\n",
              "         [4.8255e-01, 8.9422e-02, 2.4877e-01, 6.4266e-01, 9.9848e-01,\n",
              "          8.0369e-01, 5.8487e-01, 6.2161e-01, 1.1985e-01, 7.9636e-01,\n",
              "          7.8675e-01, 1.6452e-01, 6.9378e-01, 7.1632e-01],\n",
              "         [5.4317e-01, 9.3093e-01, 7.6046e-01, 3.1803e-01, 2.1436e-01,\n",
              "          4.9385e-01, 4.6098e-01, 7.1222e-01, 3.7990e-01, 6.5425e-01,\n",
              "          8.3794e-02, 7.3357e-01, 3.3610e-01, 8.7450e-01],\n",
              "         [5.9794e-01, 8.1804e-01, 2.3436e-01, 6.5019e-01, 5.3727e-01,\n",
              "          4.9113e-01, 9.8087e-01, 6.6145e-01, 1.3311e-01, 6.5892e-01,\n",
              "          7.5902e-02, 6.0869e-02, 5.5941e-02, 6.5302e-02],\n",
              "         [9.5403e-01, 8.0784e-01, 4.6640e-01, 7.1776e-02, 1.7532e-01,\n",
              "          2.8023e-01, 3.9409e-01, 4.1323e-01, 9.5695e-04, 4.1247e-01,\n",
              "          5.5447e-02, 6.0557e-01, 3.7843e-01, 7.2683e-01],\n",
              "         [9.1359e-03, 8.8901e-01, 7.0414e-01, 7.1167e-01, 5.2469e-01,\n",
              "          2.0095e-01, 7.8727e-01, 8.7406e-01, 1.4728e-01, 2.0866e-01,\n",
              "          6.6928e-01, 4.6498e-01, 3.3709e-01, 3.8218e-02],\n",
              "         [1.9860e-01, 2.6147e-01, 9.0863e-01, 5.8912e-01, 3.6763e-01,\n",
              "          4.7207e-01, 9.5398e-01, 8.5124e-01, 5.9036e-01, 4.7291e-01,\n",
              "          7.1115e-01, 8.4187e-01, 9.8520e-01, 4.5978e-01],\n",
              "         [5.5713e-01, 1.0044e-01, 3.5543e-01, 6.8603e-01, 4.8313e-01,\n",
              "          1.1208e-01, 5.0091e-01, 1.8615e-01, 2.1557e-01, 4.0193e-02,\n",
              "          8.5640e-01, 4.0257e-02, 8.6505e-01, 6.1259e-01],\n",
              "         [7.9916e-01, 5.1851e-01, 2.0833e-01, 1.0751e-01, 4.3046e-02,\n",
              "          5.5336e-01, 6.8821e-01, 3.2934e-01, 3.9374e-02, 5.3217e-02,\n",
              "          9.7138e-01, 1.6873e-01, 3.5987e-02, 4.7174e-01],\n",
              "         [8.4924e-01, 2.9113e-01, 2.2547e-01, 5.7956e-02, 5.5182e-01,\n",
              "          9.3811e-01, 4.0069e-01, 2.7383e-01, 1.3031e-01, 6.8088e-01,\n",
              "          6.1312e-02, 7.2917e-01, 6.3005e-01, 3.5428e-01]],\n",
              "\n",
              "        [[5.6148e-01, 7.2811e-01, 3.8303e-01, 5.3823e-01, 2.3745e-01,\n",
              "          4.8334e-02, 2.3159e-01, 8.1361e-01, 4.8927e-01, 2.0535e-01,\n",
              "          7.4632e-01, 7.6536e-01, 5.9527e-01, 1.5227e-02],\n",
              "         [4.1946e-01, 5.1510e-01, 7.4471e-01, 7.1769e-01, 3.1595e-01,\n",
              "          2.3040e-01, 4.6598e-01, 3.9789e-01, 9.5058e-01, 9.0375e-01,\n",
              "          6.4713e-01, 4.3983e-02, 8.0082e-01, 4.7853e-01],\n",
              "         [9.1024e-02, 8.7023e-01, 4.8585e-01, 3.7348e-01, 2.1601e-01,\n",
              "          3.8103e-01, 6.9892e-02, 9.8872e-01, 5.3742e-01, 3.9113e-01,\n",
              "          6.1952e-01, 5.7501e-01, 9.5549e-01, 9.4802e-01],\n",
              "         [4.4407e-01, 3.7210e-01, 9.5151e-01, 6.3268e-01, 8.2467e-01,\n",
              "          2.9572e-01, 1.0541e-01, 1.1655e-01, 9.6673e-01, 5.8338e-01,\n",
              "          9.8049e-01, 4.8091e-02, 6.0897e-01, 5.8456e-01],\n",
              "         [8.8586e-01, 9.8182e-01, 4.3674e-01, 7.1083e-03, 5.4085e-01,\n",
              "          1.1770e-01, 7.3526e-01, 7.7514e-01, 8.2147e-01, 3.7902e-01,\n",
              "          2.4244e-01, 6.8684e-01, 3.2570e-01, 3.3000e-01],\n",
              "         [9.8260e-01, 9.2551e-01, 1.9061e-01, 6.9152e-01, 6.1807e-01,\n",
              "          3.9209e-02, 1.4241e-01, 8.8545e-01, 7.6734e-01, 3.2777e-01,\n",
              "          7.6624e-01, 5.9339e-01, 4.9931e-01, 9.4540e-01],\n",
              "         [9.9245e-01, 5.4652e-01, 4.9808e-01, 6.0694e-01, 8.0928e-01,\n",
              "          8.0354e-02, 1.5857e-01, 2.9682e-01, 7.5927e-01, 7.7956e-01,\n",
              "          9.2529e-01, 2.6228e-01, 9.5965e-01, 3.4072e-01],\n",
              "         [2.2881e-01, 2.3146e-01, 3.1450e-01, 2.5628e-01, 2.4589e-01,\n",
              "          4.8066e-01, 3.3183e-02, 7.0360e-01, 5.8268e-01, 4.2630e-01,\n",
              "          7.4793e-01, 1.7248e-01, 5.1623e-01, 7.2868e-01],\n",
              "         [6.6496e-01, 4.0107e-01, 1.7783e-01, 6.4466e-01, 8.8049e-02,\n",
              "          3.4744e-01, 4.8026e-01, 6.9163e-01, 4.4167e-02, 8.6424e-01,\n",
              "          4.5650e-01, 4.7474e-01, 7.1641e-01, 7.1582e-01],\n",
              "         [5.2200e-01, 2.6038e-01, 4.9724e-01, 9.0533e-01, 4.0702e-01,\n",
              "          1.1901e-01, 4.2252e-01, 3.1622e-01, 8.7646e-01, 4.3211e-01,\n",
              "          4.2484e-01, 1.0411e-01, 8.4877e-01, 2.5947e-01],\n",
              "         [2.3601e-01, 1.6489e-01, 2.8577e-01, 5.7140e-01, 3.3957e-01,\n",
              "          3.9159e-01, 4.6625e-02, 5.9329e-02, 5.2850e-01, 7.7819e-01,\n",
              "          4.1341e-01, 7.8465e-02, 4.8652e-01, 9.2373e-01],\n",
              "         [5.8463e-01, 6.6456e-01, 1.7608e-01, 8.1383e-02, 2.9663e-01,\n",
              "          5.6035e-01, 9.1505e-01, 7.9883e-01, 7.0372e-01, 5.7855e-01,\n",
              "          8.4610e-01, 1.2125e-01, 1.7286e-01, 4.5109e-01]],\n",
              "\n",
              "        [[3.7019e-01, 4.5860e-01, 9.7972e-01, 9.9407e-01, 5.4056e-01,\n",
              "          3.0757e-01, 6.7123e-02, 4.2398e-01, 9.2806e-01, 6.1539e-01,\n",
              "          2.7601e-01, 8.4899e-01, 2.0062e-01, 3.4071e-01],\n",
              "         [6.6856e-01, 6.9933e-01, 8.9033e-02, 4.2899e-01, 7.3835e-01,\n",
              "          6.2682e-01, 9.4728e-01, 4.8848e-01, 5.2862e-01, 8.8374e-01,\n",
              "          9.8394e-01, 2.4020e-01, 7.0558e-01, 4.5213e-01],\n",
              "         [8.9703e-01, 8.8408e-01, 6.1568e-02, 5.6990e-01, 5.6079e-01,\n",
              "          6.7454e-01, 3.9157e-01, 8.2053e-01, 4.1730e-01, 8.3953e-01,\n",
              "          5.5791e-02, 1.8453e-01, 1.8701e-01, 6.0558e-01],\n",
              "         [3.3916e-01, 1.3104e-01, 9.6161e-01, 3.9365e-01, 9.7193e-01,\n",
              "          2.5055e-01, 9.7462e-01, 6.7322e-01, 9.3402e-01, 3.9908e-01,\n",
              "          4.9417e-01, 1.2284e-01, 2.6961e-01, 4.3870e-01],\n",
              "         [9.0298e-01, 4.3581e-01, 8.8627e-01, 4.5877e-01, 8.9469e-01,\n",
              "          6.3561e-02, 8.9319e-01, 7.9184e-01, 3.8876e-01, 7.0021e-02,\n",
              "          8.1509e-01, 7.1300e-01, 4.2826e-01, 3.4397e-01],\n",
              "         [7.7798e-01, 7.1774e-01, 6.1764e-01, 7.2311e-01, 3.4872e-01,\n",
              "          3.3720e-01, 8.2500e-01, 9.6139e-01, 4.4397e-01, 7.0699e-01,\n",
              "          6.5686e-01, 7.8204e-01, 1.7829e-01, 8.8600e-01],\n",
              "         [2.5165e-02, 5.9529e-02, 3.9336e-01, 8.1319e-01, 2.8063e-01,\n",
              "          9.7166e-01, 5.8474e-01, 4.1921e-01, 1.3787e-01, 1.1752e-01,\n",
              "          4.0593e-01, 6.3128e-01, 1.6589e-01, 8.5486e-01],\n",
              "         [9.0762e-01, 6.1032e-01, 9.6124e-02, 3.5099e-01, 7.0631e-01,\n",
              "          1.3299e-01, 5.2658e-01, 6.4730e-01, 8.7117e-01, 4.3132e-01,\n",
              "          5.9842e-01, 8.0730e-02, 8.3414e-01, 7.5233e-01],\n",
              "         [8.8246e-01, 1.6988e-01, 1.2905e-01, 4.1648e-01, 8.8466e-01,\n",
              "          2.9107e-02, 1.5724e-01, 6.5176e-01, 2.0337e-01, 7.2320e-01,\n",
              "          3.1531e-01, 6.9074e-01, 6.4172e-01, 5.9115e-01],\n",
              "         [1.3003e-01, 4.7456e-02, 5.9079e-02, 4.8997e-01, 2.0900e-01,\n",
              "          5.8331e-01, 8.7053e-01, 6.0913e-01, 5.4216e-01, 3.2258e-01,\n",
              "          3.0490e-01, 5.9650e-01, 2.9104e-01, 7.5711e-01],\n",
              "         [2.5147e-01, 6.3416e-01, 7.1142e-02, 4.7126e-01, 1.3778e-01,\n",
              "          9.1309e-01, 4.0491e-01, 1.1619e-01, 4.8710e-01, 6.6451e-01,\n",
              "          1.9671e-01, 6.9906e-01, 5.8795e-01, 2.6709e-01],\n",
              "         [7.8121e-01, 9.8929e-01, 6.9360e-01, 1.3150e-01, 8.0980e-01,\n",
              "          8.5846e-01, 7.3889e-01, 7.5295e-01, 5.2674e-01, 3.6406e-01,\n",
              "          3.4954e-01, 7.4872e-01, 9.2724e-01, 8.8197e-01]]])"
            ]
          },
          "metadata": {},
          "execution_count": 23
        }
      ],
      "source": [
        "# Practice\n",
        "\n",
        "my_random_tensor = torch.rand(5, 12, 14)\n",
        "my_random_tensor"
      ]
    },
    {
      "cell_type": "markdown",
      "metadata": {
        "id": "aRIaD9O8SZy2"
      },
      "source": [
        "## Zeros and ones"
      ]
    },
    {
      "cell_type": "code",
      "execution_count": null,
      "metadata": {
        "colab": {
          "base_uri": "https://localhost:8080/"
        },
        "id": "P23-e-fcSs34",
        "outputId": "fbf132bf-6f38-459e-963c-ef276859b679"
      },
      "outputs": [
        {
          "output_type": "execute_result",
          "data": {
            "text/plain": [
              "tensor([[0., 0., 0., 0.],\n",
              "        [0., 0., 0., 0.],\n",
              "        [0., 0., 0., 0.]])"
            ]
          },
          "metadata": {},
          "execution_count": 24
        }
      ],
      "source": [
        "# Create a tensor of all zeros\n",
        "zeros = torch.zeros(size=(3, 4))\n",
        "zeros"
      ]
    },
    {
      "cell_type": "code",
      "execution_count": null,
      "metadata": {
        "colab": {
          "base_uri": "https://localhost:8080/"
        },
        "id": "w0rTCfJ4Sy6c",
        "outputId": "59475da4-298b-411a-b973-31267472b23d"
      },
      "outputs": [
        {
          "output_type": "execute_result",
          "data": {
            "text/plain": [
              "tensor([[1., 1., 1., 1.],\n",
              "        [1., 1., 1., 1.],\n",
              "        [1., 1., 1., 1.]])"
            ]
          },
          "metadata": {},
          "execution_count": 25
        }
      ],
      "source": [
        "# Create a tensor of all ones\n",
        "ones = torch.ones(size=(3, 4))\n",
        "ones"
      ]
    },
    {
      "cell_type": "code",
      "execution_count": null,
      "metadata": {
        "colab": {
          "base_uri": "https://localhost:8080/"
        },
        "id": "6VWWajlSS3JN",
        "outputId": "fad8e176-9046-4b2d-ea5d-3296bfc95b83"
      },
      "outputs": [
        {
          "output_type": "execute_result",
          "data": {
            "text/plain": [
              "torch.float32"
            ]
          },
          "metadata": {},
          "execution_count": 26
        }
      ],
      "source": [
        "ones.dtype"
      ]
    },
    {
      "cell_type": "code",
      "execution_count": null,
      "metadata": {
        "colab": {
          "base_uri": "https://localhost:8080/"
        },
        "id": "BB5nA3AeTH8y",
        "outputId": "c7a123c4-fc50-40af-be23-f3097787d538"
      },
      "outputs": [
        {
          "output_type": "execute_result",
          "data": {
            "text/plain": [
              "torch.float32"
            ]
          },
          "metadata": {},
          "execution_count": 27
        }
      ],
      "source": [
        "random_tensor.dtype"
      ]
    },
    {
      "cell_type": "code",
      "execution_count": null,
      "metadata": {
        "colab": {
          "base_uri": "https://localhost:8080/"
        },
        "id": "4MjTrd5WTLGO",
        "outputId": "004baa98-9d3a-4fba-92aa-3fb9f3238d4b"
      },
      "outputs": [
        {
          "output_type": "execute_result",
          "data": {
            "text/plain": [
              "(tensor([[0., 0., 0., 0., 0., 0., 0., 0., 0., 0.],\n",
              "         [0., 0., 0., 0., 0., 0., 0., 0., 0., 0.],\n",
              "         [0., 0., 0., 0., 0., 0., 0., 0., 0., 0.],\n",
              "         [0., 0., 0., 0., 0., 0., 0., 0., 0., 0.],\n",
              "         [0., 0., 0., 0., 0., 0., 0., 0., 0., 0.],\n",
              "         [0., 0., 0., 0., 0., 0., 0., 0., 0., 0.],\n",
              "         [0., 0., 0., 0., 0., 0., 0., 0., 0., 0.],\n",
              "         [0., 0., 0., 0., 0., 0., 0., 0., 0., 0.],\n",
              "         [0., 0., 0., 0., 0., 0., 0., 0., 0., 0.],\n",
              "         [0., 0., 0., 0., 0., 0., 0., 0., 0., 0.]]),\n",
              " tensor([[[1., 1., 1., 1., 1., 1., 1., 1., 1., 1., 1., 1., 1., 1.],\n",
              "          [1., 1., 1., 1., 1., 1., 1., 1., 1., 1., 1., 1., 1., 1.],\n",
              "          [1., 1., 1., 1., 1., 1., 1., 1., 1., 1., 1., 1., 1., 1.],\n",
              "          [1., 1., 1., 1., 1., 1., 1., 1., 1., 1., 1., 1., 1., 1.],\n",
              "          [1., 1., 1., 1., 1., 1., 1., 1., 1., 1., 1., 1., 1., 1.],\n",
              "          [1., 1., 1., 1., 1., 1., 1., 1., 1., 1., 1., 1., 1., 1.],\n",
              "          [1., 1., 1., 1., 1., 1., 1., 1., 1., 1., 1., 1., 1., 1.],\n",
              "          [1., 1., 1., 1., 1., 1., 1., 1., 1., 1., 1., 1., 1., 1.],\n",
              "          [1., 1., 1., 1., 1., 1., 1., 1., 1., 1., 1., 1., 1., 1.],\n",
              "          [1., 1., 1., 1., 1., 1., 1., 1., 1., 1., 1., 1., 1., 1.],\n",
              "          [1., 1., 1., 1., 1., 1., 1., 1., 1., 1., 1., 1., 1., 1.],\n",
              "          [1., 1., 1., 1., 1., 1., 1., 1., 1., 1., 1., 1., 1., 1.]],\n",
              " \n",
              "         [[1., 1., 1., 1., 1., 1., 1., 1., 1., 1., 1., 1., 1., 1.],\n",
              "          [1., 1., 1., 1., 1., 1., 1., 1., 1., 1., 1., 1., 1., 1.],\n",
              "          [1., 1., 1., 1., 1., 1., 1., 1., 1., 1., 1., 1., 1., 1.],\n",
              "          [1., 1., 1., 1., 1., 1., 1., 1., 1., 1., 1., 1., 1., 1.],\n",
              "          [1., 1., 1., 1., 1., 1., 1., 1., 1., 1., 1., 1., 1., 1.],\n",
              "          [1., 1., 1., 1., 1., 1., 1., 1., 1., 1., 1., 1., 1., 1.],\n",
              "          [1., 1., 1., 1., 1., 1., 1., 1., 1., 1., 1., 1., 1., 1.],\n",
              "          [1., 1., 1., 1., 1., 1., 1., 1., 1., 1., 1., 1., 1., 1.],\n",
              "          [1., 1., 1., 1., 1., 1., 1., 1., 1., 1., 1., 1., 1., 1.],\n",
              "          [1., 1., 1., 1., 1., 1., 1., 1., 1., 1., 1., 1., 1., 1.],\n",
              "          [1., 1., 1., 1., 1., 1., 1., 1., 1., 1., 1., 1., 1., 1.],\n",
              "          [1., 1., 1., 1., 1., 1., 1., 1., 1., 1., 1., 1., 1., 1.]],\n",
              " \n",
              "         [[1., 1., 1., 1., 1., 1., 1., 1., 1., 1., 1., 1., 1., 1.],\n",
              "          [1., 1., 1., 1., 1., 1., 1., 1., 1., 1., 1., 1., 1., 1.],\n",
              "          [1., 1., 1., 1., 1., 1., 1., 1., 1., 1., 1., 1., 1., 1.],\n",
              "          [1., 1., 1., 1., 1., 1., 1., 1., 1., 1., 1., 1., 1., 1.],\n",
              "          [1., 1., 1., 1., 1., 1., 1., 1., 1., 1., 1., 1., 1., 1.],\n",
              "          [1., 1., 1., 1., 1., 1., 1., 1., 1., 1., 1., 1., 1., 1.],\n",
              "          [1., 1., 1., 1., 1., 1., 1., 1., 1., 1., 1., 1., 1., 1.],\n",
              "          [1., 1., 1., 1., 1., 1., 1., 1., 1., 1., 1., 1., 1., 1.],\n",
              "          [1., 1., 1., 1., 1., 1., 1., 1., 1., 1., 1., 1., 1., 1.],\n",
              "          [1., 1., 1., 1., 1., 1., 1., 1., 1., 1., 1., 1., 1., 1.],\n",
              "          [1., 1., 1., 1., 1., 1., 1., 1., 1., 1., 1., 1., 1., 1.],\n",
              "          [1., 1., 1., 1., 1., 1., 1., 1., 1., 1., 1., 1., 1., 1.]],\n",
              " \n",
              "         [[1., 1., 1., 1., 1., 1., 1., 1., 1., 1., 1., 1., 1., 1.],\n",
              "          [1., 1., 1., 1., 1., 1., 1., 1., 1., 1., 1., 1., 1., 1.],\n",
              "          [1., 1., 1., 1., 1., 1., 1., 1., 1., 1., 1., 1., 1., 1.],\n",
              "          [1., 1., 1., 1., 1., 1., 1., 1., 1., 1., 1., 1., 1., 1.],\n",
              "          [1., 1., 1., 1., 1., 1., 1., 1., 1., 1., 1., 1., 1., 1.],\n",
              "          [1., 1., 1., 1., 1., 1., 1., 1., 1., 1., 1., 1., 1., 1.],\n",
              "          [1., 1., 1., 1., 1., 1., 1., 1., 1., 1., 1., 1., 1., 1.],\n",
              "          [1., 1., 1., 1., 1., 1., 1., 1., 1., 1., 1., 1., 1., 1.],\n",
              "          [1., 1., 1., 1., 1., 1., 1., 1., 1., 1., 1., 1., 1., 1.],\n",
              "          [1., 1., 1., 1., 1., 1., 1., 1., 1., 1., 1., 1., 1., 1.],\n",
              "          [1., 1., 1., 1., 1., 1., 1., 1., 1., 1., 1., 1., 1., 1.],\n",
              "          [1., 1., 1., 1., 1., 1., 1., 1., 1., 1., 1., 1., 1., 1.]],\n",
              " \n",
              "         [[1., 1., 1., 1., 1., 1., 1., 1., 1., 1., 1., 1., 1., 1.],\n",
              "          [1., 1., 1., 1., 1., 1., 1., 1., 1., 1., 1., 1., 1., 1.],\n",
              "          [1., 1., 1., 1., 1., 1., 1., 1., 1., 1., 1., 1., 1., 1.],\n",
              "          [1., 1., 1., 1., 1., 1., 1., 1., 1., 1., 1., 1., 1., 1.],\n",
              "          [1., 1., 1., 1., 1., 1., 1., 1., 1., 1., 1., 1., 1., 1.],\n",
              "          [1., 1., 1., 1., 1., 1., 1., 1., 1., 1., 1., 1., 1., 1.],\n",
              "          [1., 1., 1., 1., 1., 1., 1., 1., 1., 1., 1., 1., 1., 1.],\n",
              "          [1., 1., 1., 1., 1., 1., 1., 1., 1., 1., 1., 1., 1., 1.],\n",
              "          [1., 1., 1., 1., 1., 1., 1., 1., 1., 1., 1., 1., 1., 1.],\n",
              "          [1., 1., 1., 1., 1., 1., 1., 1., 1., 1., 1., 1., 1., 1.],\n",
              "          [1., 1., 1., 1., 1., 1., 1., 1., 1., 1., 1., 1., 1., 1.],\n",
              "          [1., 1., 1., 1., 1., 1., 1., 1., 1., 1., 1., 1., 1., 1.]]]))"
            ]
          },
          "metadata": {},
          "execution_count": 28
        }
      ],
      "source": [
        "# Practice\n",
        "\n",
        "my_zeros = torch.zeros(size=(10, 10))\n",
        "my_ones = torch.ones(size=(5, 12, 14))\n",
        "\n",
        "my_zeros, my_ones"
      ]
    },
    {
      "cell_type": "markdown",
      "metadata": {
        "id": "mQQLx9DXTZ_f"
      },
      "source": [
        "### Creating a range of tensor and tensors-like"
      ]
    },
    {
      "cell_type": "code",
      "execution_count": null,
      "metadata": {
        "colab": {
          "base_uri": "https://localhost:8080/"
        },
        "id": "luZq_ZfnT-lg",
        "outputId": "2d6c9989-407e-4e34-dc9a-43d247393620"
      },
      "outputs": [
        {
          "output_type": "execute_result",
          "data": {
            "text/plain": [
              "tensor([ 1,  2,  3,  4,  5,  6,  7,  8,  9, 10])"
            ]
          },
          "metadata": {},
          "execution_count": 29
        }
      ],
      "source": [
        "# Use torch.range() and get deprecated message, use torch.arange()\n",
        "one_to_ten = torch.arange(start=1, end=11, step=1)\n",
        "one_to_ten"
      ]
    },
    {
      "cell_type": "code",
      "execution_count": null,
      "metadata": {
        "colab": {
          "base_uri": "https://localhost:8080/"
        },
        "id": "OwNRvrh4UC71",
        "outputId": "8925e257-0b17-48b6-afaf-2c35f95e3e5e"
      },
      "outputs": [
        {
          "output_type": "execute_result",
          "data": {
            "text/plain": [
              "tensor([0, 0, 0, 0, 0, 0, 0, 0, 0, 0])"
            ]
          },
          "metadata": {},
          "execution_count": 30
        }
      ],
      "source": [
        "# Creating tensors like\n",
        "ten_zeros = torch.zeros_like(input=one_to_ten)\n",
        "ten_zeros"
      ]
    },
    {
      "cell_type": "markdown",
      "metadata": {
        "id": "0B8VhdU5UtYa"
      },
      "source": [
        "### Tensor datatypes\n",
        "\n",
        "**Note:** Tensor datatypes is one of the 3 big errors you'll run into with PyTorch & deep learning:\n",
        "1. Tensors not right datatype\n",
        "2. Tensors not right shape\n",
        "3. Tensors not on the right device"
      ]
    },
    {
      "cell_type": "code",
      "execution_count": null,
      "metadata": {
        "colab": {
          "base_uri": "https://localhost:8080/"
        },
        "id": "572gcxURVPgd",
        "outputId": "b57ee7e5-7ae8-470a-c62a-cfdee5128265"
      },
      "outputs": [
        {
          "output_type": "execute_result",
          "data": {
            "text/plain": [
              "tensor([3., 6., 9.])"
            ]
          },
          "metadata": {},
          "execution_count": 31
        }
      ],
      "source": [
        "# Float 32 tensor\n",
        "float_32_tensor = torch.tensor([3.0, 6.0, 9.0],\n",
        "                               dtype=torch.float32, # what datatype is the tensor (e.g. float32 or float16)\n",
        "                               device=None, # What device is your tensor on\n",
        "                               requires_grad=False) # whether or not to track gradients with this tensors operations\n",
        "float_32_tensor"
      ]
    },
    {
      "cell_type": "code",
      "execution_count": null,
      "metadata": {
        "colab": {
          "base_uri": "https://localhost:8080/"
        },
        "id": "JMY2vpmYVa41",
        "outputId": "53e6c241-587f-4f4e-cc04-073c2ee9426d"
      },
      "outputs": [
        {
          "output_type": "execute_result",
          "data": {
            "text/plain": [
              "torch.float32"
            ]
          },
          "metadata": {},
          "execution_count": 32
        }
      ],
      "source": [
        " float_32_tensor.dtype"
      ]
    },
    {
      "cell_type": "code",
      "execution_count": null,
      "metadata": {
        "colab": {
          "base_uri": "https://localhost:8080/"
        },
        "id": "FSVyl-SZVeua",
        "outputId": "8cfbcdd6-901a-4c11-eab6-4dc1711341ee"
      },
      "outputs": [
        {
          "output_type": "execute_result",
          "data": {
            "text/plain": [
              "tensor([3., 6., 9.], dtype=torch.float16)"
            ]
          },
          "metadata": {},
          "execution_count": 33
        }
      ],
      "source": [
        "float_16_tensor = float_32_tensor.type(torch.float16)\n",
        "float_16_tensor"
      ]
    },
    {
      "cell_type": "markdown",
      "metadata": {
        "id": "vOXRvY89Xc-o"
      },
      "source": [
        "#### Practice"
      ]
    },
    {
      "cell_type": "code",
      "execution_count": null,
      "metadata": {
        "colab": {
          "base_uri": "https://localhost:8080/"
        },
        "id": "JmEWbqkkXtrq",
        "outputId": "f28feb46-9138-434c-94f9-d9390abbcef6"
      },
      "outputs": [
        {
          "output_type": "execute_result",
          "data": {
            "text/plain": [
              "tensor([[3., 5., 7.],\n",
              "        [1., 2., 3.]], dtype=torch.float16)"
            ]
          },
          "metadata": {},
          "execution_count": 34
        }
      ],
      "source": [
        "float_16_tensor = torch.tensor([[3.0, 5.0, 7.0],\n",
        "                                [1.0, 2.0, 3.0]],\n",
        "                               dtype=torch.float16,\n",
        "                               device=None,\n",
        "                               requires_grad=False)\n",
        "float_16_tensor"
      ]
    },
    {
      "cell_type": "code",
      "execution_count": null,
      "metadata": {
        "colab": {
          "base_uri": "https://localhost:8080/",
          "height": 384
        },
        "id": "ycoII5fBDfiU",
        "outputId": "1fd903a7-e8a6-43bf-8973-73acefc09895"
      },
      "outputs": [
        {
          "output_type": "error",
          "ename": "RuntimeError",
          "evalue": "Found no NVIDIA driver on your system. Please check that you have an NVIDIA GPU and installed a driver from http://www.nvidia.com/Download/index.aspx",
          "traceback": [
            "\u001b[0;31m---------------------------------------------------------------------------\u001b[0m",
            "\u001b[0;31mRuntimeError\u001b[0m                              Traceback (most recent call last)",
            "\u001b[0;32m<ipython-input-36-fa0652a1cc1c>\u001b[0m in \u001b[0;36m<cell line: 1>\u001b[0;34m()\u001b[0m\n\u001b[0;32m----> 1\u001b[0;31m int_8_tensor = torch.tensor([1, 2, 4],\n\u001b[0m\u001b[1;32m      2\u001b[0m                             \u001b[0mdtype\u001b[0m\u001b[0;34m=\u001b[0m\u001b[0mtorch\u001b[0m\u001b[0;34m.\u001b[0m\u001b[0mint8\u001b[0m\u001b[0;34m,\u001b[0m\u001b[0;34m\u001b[0m\u001b[0;34m\u001b[0m\u001b[0m\n\u001b[1;32m      3\u001b[0m                             \u001b[0mdevice\u001b[0m\u001b[0;34m=\u001b[0m\u001b[0;34m'cuda'\u001b[0m\u001b[0;34m,\u001b[0m\u001b[0;34m\u001b[0m\u001b[0;34m\u001b[0m\u001b[0m\n\u001b[1;32m      4\u001b[0m                             requires_grad=False)\n\u001b[1;32m      5\u001b[0m \u001b[0mint_8_tensor\u001b[0m\u001b[0;34m\u001b[0m\u001b[0;34m\u001b[0m\u001b[0m\n",
            "\u001b[0;32m/usr/local/lib/python3.10/dist-packages/torch/cuda/__init__.py\u001b[0m in \u001b[0;36m_lazy_init\u001b[0;34m()\u001b[0m\n\u001b[1;32m    296\u001b[0m         \u001b[0;32mif\u001b[0m \u001b[0;34m\"CUDA_MODULE_LOADING\"\u001b[0m \u001b[0;32mnot\u001b[0m \u001b[0;32min\u001b[0m \u001b[0mos\u001b[0m\u001b[0;34m.\u001b[0m\u001b[0menviron\u001b[0m\u001b[0;34m:\u001b[0m\u001b[0;34m\u001b[0m\u001b[0;34m\u001b[0m\u001b[0m\n\u001b[1;32m    297\u001b[0m             \u001b[0mos\u001b[0m\u001b[0;34m.\u001b[0m\u001b[0menviron\u001b[0m\u001b[0;34m[\u001b[0m\u001b[0;34m\"CUDA_MODULE_LOADING\"\u001b[0m\u001b[0;34m]\u001b[0m \u001b[0;34m=\u001b[0m \u001b[0;34m\"LAZY\"\u001b[0m\u001b[0;34m\u001b[0m\u001b[0;34m\u001b[0m\u001b[0m\n\u001b[0;32m--> 298\u001b[0;31m         \u001b[0mtorch\u001b[0m\u001b[0;34m.\u001b[0m\u001b[0m_C\u001b[0m\u001b[0;34m.\u001b[0m\u001b[0m_cuda_init\u001b[0m\u001b[0;34m(\u001b[0m\u001b[0;34m)\u001b[0m\u001b[0;34m\u001b[0m\u001b[0;34m\u001b[0m\u001b[0m\n\u001b[0m\u001b[1;32m    299\u001b[0m         \u001b[0;31m# Some of the queued calls may reentrantly call _lazy_init();\u001b[0m\u001b[0;34m\u001b[0m\u001b[0;34m\u001b[0m\u001b[0m\n\u001b[1;32m    300\u001b[0m         \u001b[0;31m# we need to just return without initializing in that case.\u001b[0m\u001b[0;34m\u001b[0m\u001b[0;34m\u001b[0m\u001b[0m\n",
            "\u001b[0;31mRuntimeError\u001b[0m: Found no NVIDIA driver on your system. Please check that you have an NVIDIA GPU and installed a driver from http://www.nvidia.com/Download/index.aspx"
          ]
        }
      ],
      "source": [
        "int_8_tensor = torch.tensor([1, 2, 4],\n",
        "                            dtype=torch.int8,\n",
        "                            device='cuda',\n",
        "                            requires_grad=False)\n",
        "int_8_tensor"
      ]
    },
    {
      "cell_type": "code",
      "execution_count": null,
      "metadata": {
        "colab": {
          "base_uri": "https://localhost:8080/",
          "height": 176
        },
        "id": "VUFGJvXeEq3y",
        "outputId": "439d22e9-cac5-4066-8961-3754be8ef5fe"
      },
      "outputs": [
        {
          "output_type": "error",
          "ename": "NameError",
          "evalue": "name 'int_8_tensor' is not defined",
          "traceback": [
            "\u001b[0;31m---------------------------------------------------------------------------\u001b[0m",
            "\u001b[0;31mNameError\u001b[0m                                 Traceback (most recent call last)",
            "\u001b[0;32m<ipython-input-42-ba666b7ecd39>\u001b[0m in \u001b[0;36m<cell line: 1>\u001b[0;34m()\u001b[0m\n\u001b[0;32m----> 1\u001b[0;31m \u001b[0mfloat_16_tensor\u001b[0m \u001b[0;34m*\u001b[0m \u001b[0mint_8_tensor\u001b[0m\u001b[0;34m\u001b[0m\u001b[0;34m\u001b[0m\u001b[0m\n\u001b[0m",
            "\u001b[0;31mNameError\u001b[0m: name 'int_8_tensor' is not defined"
          ]
        }
      ],
      "source": [
        "float_16_tensor * int_8_tensor"
      ]
    },
    {
      "cell_type": "code",
      "execution_count": null,
      "metadata": {
        "id": "zKy7AJkMEzGh"
      },
      "outputs": [],
      "source": [
        "boolean_tensor = torch.tensor([False, True],\n",
        "                              dtype=torch.bool,\n",
        "                              device=None,\n",
        "                              requires_grad=False)"
      ]
    },
    {
      "cell_type": "code",
      "execution_count": null,
      "metadata": {
        "colab": {
          "base_uri": "https://localhost:8080/",
          "height": 176
        },
        "id": "AyGv0WXUFKjH",
        "outputId": "980cd975-c025-4f38-bd25-d0f19f3f2cd0"
      },
      "outputs": [
        {
          "output_type": "error",
          "ename": "RuntimeError",
          "evalue": "The size of tensor a (3) must match the size of tensor b (2) at non-singleton dimension 1",
          "traceback": [
            "\u001b[0;31m---------------------------------------------------------------------------\u001b[0m",
            "\u001b[0;31mRuntimeError\u001b[0m                              Traceback (most recent call last)",
            "\u001b[0;32m<ipython-input-45-57dab6055527>\u001b[0m in \u001b[0;36m<cell line: 1>\u001b[0;34m()\u001b[0m\n\u001b[0;32m----> 1\u001b[0;31m \u001b[0mfloat_16_tensor\u001b[0m \u001b[0;34m*\u001b[0m \u001b[0mboolean_tensor\u001b[0m\u001b[0;34m\u001b[0m\u001b[0;34m\u001b[0m\u001b[0m\n\u001b[0m",
            "\u001b[0;31mRuntimeError\u001b[0m: The size of tensor a (3) must match the size of tensor b (2) at non-singleton dimension 1"
          ]
        }
      ],
      "source": [
        "float_16_tensor * boolean_tensor"
      ]
    },
    {
      "cell_type": "markdown",
      "source": [
        "### Getting information from tensors (tensor attributes)\n",
        "\n",
        "1. Tensors not right datatype - to do get datatype from a tensor, can use `tensor.dtype`\n",
        "2. Tensors not right shape - to get shape from a tensor, can use `tensor.shape`\n",
        "3. Tensors not on the right device - to get device from a tensor, can use `tensor.device`"
      ],
      "metadata": {
        "id": "bfwhjS0bJsda"
      }
    },
    {
      "cell_type": "code",
      "source": [
        "# Create a tensor\n",
        "some_tensor = torch.rand(3, 4)\n",
        "some_tensor"
      ],
      "metadata": {
        "id": "SWbvFg-hvh6h"
      },
      "execution_count": null,
      "outputs": []
    },
    {
      "cell_type": "code",
      "source": [
        "# Find out details about some_tensor\n",
        "print(some_tensor)\n",
        "print(f\"Datatype of tensor: {some_tensor.dtype}\")\n",
        "print(f\"Shape of tensor: {some_tensor.shape}\")\n",
        "print(f\"Device tensor is on: {some_tensor.device}\")"
      ],
      "metadata": {
        "id": "eSWCcKNrvwUz"
      },
      "execution_count": null,
      "outputs": []
    },
    {
      "cell_type": "markdown",
      "source": [
        "#### Practice"
      ],
      "metadata": {
        "id": "rDvv7pP9v5sv"
      }
    },
    {
      "cell_type": "code",
      "source": [
        "my_tensor = torch.rand(2, 5)\n",
        "print(my_tensor)\n",
        "print(f\"Datatype of the tensor: {my_tensor.dtype}\")\n",
        "print(f\"Shape of the tensor: {my_tensor.shape}\")\n",
        "print(f\"Device the tensor is on: {my_tensor.device}\")"
      ],
      "metadata": {
        "id": "PY-gkvVCwtsI"
      },
      "execution_count": null,
      "outputs": []
    },
    {
      "cell_type": "code",
      "source": [
        "my_tensor.to(device=\"cuda:0\", dtype=torch.float16)"
      ],
      "metadata": {
        "id": "k2AV3Y24w6Ec"
      },
      "execution_count": null,
      "outputs": []
    },
    {
      "cell_type": "markdown",
      "source": [
        "### Manipulating Tensors (tensor operations)\n",
        "\n",
        "Tensor operations include:\n",
        "* Addition\n",
        "* Subtraction\n",
        "* Multiplication (element-wise)\n",
        "* Division\n",
        "* Matrix multiplication"
      ],
      "metadata": {
        "id": "s1kRda3Ryhp8"
      }
    },
    {
      "cell_type": "code",
      "source": [
        "# Create a tensor and add 10 to it\n",
        "tensor = torch.tensor([1, 2, 3])\n",
        "tensor + 10"
      ],
      "metadata": {
        "id": "JxKoSJsLzDP4"
      },
      "execution_count": null,
      "outputs": []
    },
    {
      "cell_type": "code",
      "source": [
        "# Multiply tensor by 10\n",
        "tensor * 10"
      ],
      "metadata": {
        "id": "1qpzya-H4ZO1"
      },
      "execution_count": null,
      "outputs": []
    },
    {
      "cell_type": "code",
      "source": [
        "tensor"
      ],
      "metadata": {
        "id": "P-_e_U6e4f0z"
      },
      "execution_count": null,
      "outputs": []
    },
    {
      "cell_type": "code",
      "source": [
        "# Subtract 10\n",
        "tensor - 10"
      ],
      "metadata": {
        "id": "iuQ2dO8C4qSd"
      },
      "execution_count": null,
      "outputs": []
    },
    {
      "cell_type": "code",
      "source": [
        "# Try out PyTorch in-built functions\n",
        "torch.mul(tensor, 10)"
      ],
      "metadata": {
        "id": "Nj2jeaG7421o"
      },
      "execution_count": null,
      "outputs": []
    },
    {
      "cell_type": "code",
      "source": [
        "torch.add(tensor, 10)"
      ],
      "metadata": {
        "id": "nhEnyzts4_gz"
      },
      "execution_count": null,
      "outputs": []
    },
    {
      "cell_type": "markdown",
      "source": [
        "### Matrix multiplication\n",
        "\n",
        "Two main ways of performing multiplication in neural networks and deep learning:\n",
        "\n",
        "1. Element-wise multiplication\n",
        "2. Matrix multiplication (dot product)\n",
        "\n",
        "More information on multiplying matrices - https://www.mathsisfun.com/algebra/matrix-multiplying.html\n",
        "\n",
        "There are two rules that performing matrix multiplication needs to satisfy:\n",
        "1. The **inner dimensions** must match:\n",
        "* `(3, 2) @ (3, 2)` won't match\n",
        "* `(2, 3) @ (3, 2)` will work\n",
        "* `(3, 2) @ (2, 3)` will work\n",
        "2. The resulting matrix has the shape of the **outer dimensions**:\n",
        "* `(2, 3) @ (3, 2)` -> `(2, 2)`\n",
        "* `(3, 2) @ (2, 3)` -> `(3, 3)`"
      ],
      "metadata": {
        "id": "UM4lWSxC5ESg"
      }
    },
    {
      "cell_type": "code",
      "source": [
        "# Element wise multiplication\n",
        "print(tensor, \"*\", tensor)\n",
        "print(f\"Equals: {tensor * tensor}\")"
      ],
      "metadata": {
        "id": "Er2Rekns5gCa"
      },
      "execution_count": null,
      "outputs": []
    },
    {
      "cell_type": "code",
      "source": [
        "# Matrix multiplication\n",
        "torch.matmul(tensor, tensor)"
      ],
      "metadata": {
        "id": "w0-jzUwX6Iw1"
      },
      "execution_count": null,
      "outputs": []
    },
    {
      "cell_type": "code",
      "source": [
        "tensor"
      ],
      "metadata": {
        "id": "XRQL-2N56kEQ"
      },
      "execution_count": null,
      "outputs": []
    },
    {
      "cell_type": "code",
      "source": [
        "# Matrix multiplication by hand\n",
        "1*1 + 2*2 + 3*3"
      ],
      "metadata": {
        "id": "zrMK1o7i6Tlu"
      },
      "execution_count": null,
      "outputs": []
    },
    {
      "cell_type": "code",
      "source": [
        "tensor @ tensor"
      ],
      "metadata": {
        "id": "ZXHPMrZV9Nby"
      },
      "execution_count": null,
      "outputs": []
    },
    {
      "cell_type": "code",
      "source": [
        "%%time\n",
        "value = 0\n",
        "for i in range(len(tensor)):\n",
        "  value += tensor[i] * tensor[i]\n",
        "print(value)"
      ],
      "metadata": {
        "id": "LQiiVRGT6q71"
      },
      "execution_count": null,
      "outputs": []
    },
    {
      "cell_type": "code",
      "source": [
        "%%time\n",
        "torch.matmul(tensor, tensor)"
      ],
      "metadata": {
        "id": "-2w4mOFU7AQ7"
      },
      "execution_count": null,
      "outputs": []
    },
    {
      "cell_type": "markdown",
      "source": [
        "### One of the most common errors in deep learning: shape errors"
      ],
      "metadata": {
        "id": "cxq5TbD67HJk"
      }
    },
    {
      "cell_type": "code",
      "source": [
        "# Shapes for matrix multiplication\n",
        "tensor_A = torch.tensor([[1, 2],\n",
        "                         [3, 4],\n",
        "                         [5, 6]])\n",
        "\n",
        "tensor_B = torch.tensor([[7, 8],\n",
        "                         [9, 10],\n",
        "                         [11, 12]])\n",
        "\n",
        "# torch.mm(tensor_A, tensor_B) # torch.mm is same as torch.matmul (it's an alias for torch.matmul)\n",
        "torch.matmul(tensor_A, tensor_B)"
      ],
      "metadata": {
        "colab": {
          "base_uri": "https://localhost:8080/",
          "height": 210
        },
        "id": "vX_LBU6I-or0",
        "outputId": "02773294-e0eb-486f-83da-b78834c993af"
      },
      "execution_count": null,
      "outputs": [
        {
          "output_type": "error",
          "ename": "RuntimeError",
          "evalue": "mat1 and mat2 shapes cannot be multiplied (3x2 and 3x2)",
          "traceback": [
            "\u001b[0;31m---------------------------------------------------------------------------\u001b[0m",
            "\u001b[0;31mRuntimeError\u001b[0m                              Traceback (most recent call last)",
            "\u001b[0;32m<ipython-input-47-02cdc27e9915>\u001b[0m in \u001b[0;36m<cell line: 11>\u001b[0;34m()\u001b[0m\n\u001b[1;32m      9\u001b[0m \u001b[0;34m\u001b[0m\u001b[0m\n\u001b[1;32m     10\u001b[0m \u001b[0;31m# torch.mm(tensor_A, tensor_B) # torch.mm is same as torch.matmul (it's an alias for torch.matmul)\u001b[0m\u001b[0;34m\u001b[0m\u001b[0;34m\u001b[0m\u001b[0m\n\u001b[0;32m---> 11\u001b[0;31m \u001b[0mtorch\u001b[0m\u001b[0;34m.\u001b[0m\u001b[0mmatmul\u001b[0m\u001b[0;34m(\u001b[0m\u001b[0mtensor_A\u001b[0m\u001b[0;34m,\u001b[0m \u001b[0mtensor_B\u001b[0m\u001b[0;34m)\u001b[0m\u001b[0;34m\u001b[0m\u001b[0;34m\u001b[0m\u001b[0m\n\u001b[0m",
            "\u001b[0;31mRuntimeError\u001b[0m: mat1 and mat2 shapes cannot be multiplied (3x2 and 3x2)"
          ]
        }
      ]
    },
    {
      "cell_type": "code",
      "source": [
        "tensor_A.shape, tensor_B.shape"
      ],
      "metadata": {
        "colab": {
          "base_uri": "https://localhost:8080/"
        },
        "id": "0RaMFkKr_4kI",
        "outputId": "f83acf21-d19f-4f5f-9528-ae592dc265ff"
      },
      "execution_count": null,
      "outputs": [
        {
          "output_type": "execute_result",
          "data": {
            "text/plain": [
              "(torch.Size([3, 2]), torch.Size([3, 2]))"
            ]
          },
          "metadata": {},
          "execution_count": 48
        }
      ]
    },
    {
      "cell_type": "markdown",
      "source": [
        "To fix our tensor shape issues, we can manipulate the shape of one of our tensors using a **transpose**\n",
        "\n",
        "A **transpose** switches the axes or dimensions of a given tensor"
      ],
      "metadata": {
        "id": "bLTAYo4__93y"
      }
    },
    {
      "cell_type": "code",
      "source": [
        "tensor_B, tensor_B.shape"
      ],
      "metadata": {
        "colab": {
          "base_uri": "https://localhost:8080/"
        },
        "id": "PX6rXwY_AQDh",
        "outputId": "7fda4257-9eb3-422d-d0d7-85af5366ef21"
      },
      "execution_count": null,
      "outputs": [
        {
          "output_type": "execute_result",
          "data": {
            "text/plain": [
              "(tensor([[ 7,  8],\n",
              "         [ 9, 10],\n",
              "         [11, 12]]),\n",
              " torch.Size([3, 2]))"
            ]
          },
          "metadata": {},
          "execution_count": 49
        }
      ]
    },
    {
      "cell_type": "code",
      "source": [
        "tensor_B.T, tensor_B.T.shape"
      ],
      "metadata": {
        "colab": {
          "base_uri": "https://localhost:8080/"
        },
        "id": "Yy_mdle3AVEI",
        "outputId": "996e8248-fe93-42a2-8bea-4e4e9141e81d"
      },
      "execution_count": null,
      "outputs": [
        {
          "output_type": "execute_result",
          "data": {
            "text/plain": [
              "(tensor([[ 7,  9, 11],\n",
              "         [ 8, 10, 12]]),\n",
              " torch.Size([2, 3]))"
            ]
          },
          "metadata": {},
          "execution_count": 50
        }
      ]
    },
    {
      "cell_type": "code",
      "source": [
        "# The matrix multiplication operation works when tensor_B is transposed\n",
        "print(f\"Original shapes: tensor_A = {tensor_A.shape}, tensor_B = {tensor_B.shape}\")\n",
        "print(f\"New shapes: tensor_A = {tensor_A.shape}, tensor_B.T = {tensor_B.T.shape}\")\n",
        "print(f\"Multiplying: {tensor_A.shape} @ {tensor_B.T.shape} <- inner dimensions must match\")\n",
        "print(\"Output:\\n\")\n",
        "output = torch.matmul(tensor_A, tensor_B.T)\n",
        "print(output)\n",
        "print(f\"\\nOutput shape: {output.shape}\")"
      ],
      "metadata": {
        "colab": {
          "base_uri": "https://localhost:8080/"
        },
        "id": "o_T2Rp_cAWRC",
        "outputId": "c007a4e9-fb96-4077-9276-a14af5634051"
      },
      "execution_count": null,
      "outputs": [
        {
          "output_type": "stream",
          "name": "stdout",
          "text": [
            "Original shapes: tensor_A = torch.Size([3, 2]), tensor_B = torch.Size([3, 2])\n",
            "New shapes: tensor_A = torch.Size([3, 2]), tensor_B.T = torch.Size([2, 3])\n",
            "Multiplying: torch.Size([3, 2]) @ torch.Size([2, 3]) <- inner dimensions must match\n",
            "Output:\n",
            "\n",
            "tensor([[ 23,  29,  35],\n",
            "        [ 53,  67,  81],\n",
            "        [ 83, 105, 127]])\n",
            "\n",
            "Output shape: torch.Size([3, 3])\n"
          ]
        }
      ]
    },
    {
      "cell_type": "markdown",
      "source": [
        "## Finding the min, max, mean, sum, etc (tensor aggregation)"
      ],
      "metadata": {
        "id": "9gENiHh1AoTY"
      }
    },
    {
      "cell_type": "code",
      "source": [
        "# Create a tensor\n",
        "x = torch.arange(1, 100, 10)\n",
        "x, x.dtype"
      ],
      "metadata": {
        "colab": {
          "base_uri": "https://localhost:8080/"
        },
        "id": "Hf6jf_ezCQzb",
        "outputId": "ea084e15-2854-437d-e588-8caf032d2967"
      },
      "execution_count": null,
      "outputs": [
        {
          "output_type": "execute_result",
          "data": {
            "text/plain": [
              "(tensor([ 1, 11, 21, 31, 41, 51, 61, 71, 81, 91]), torch.int64)"
            ]
          },
          "metadata": {},
          "execution_count": 52
        }
      ]
    },
    {
      "cell_type": "code",
      "source": [
        "# Find the min\n",
        "torch.min(x), x.min()"
      ],
      "metadata": {
        "colab": {
          "base_uri": "https://localhost:8080/"
        },
        "id": "_v_Gwn4SCaTZ",
        "outputId": "6baab4a0-c162-4232-bd16-b7bf8f144fb7"
      },
      "execution_count": null,
      "outputs": [
        {
          "output_type": "execute_result",
          "data": {
            "text/plain": [
              "(tensor(1), tensor(1))"
            ]
          },
          "metadata": {},
          "execution_count": 53
        }
      ]
    },
    {
      "cell_type": "code",
      "source": [
        "# Find the max\n",
        "torch.max(x), x.max()"
      ],
      "metadata": {
        "colab": {
          "base_uri": "https://localhost:8080/"
        },
        "id": "ZIm4bC9sCeBP",
        "outputId": "40c24c45-5fcd-404b-e8a1-506ea41d2f7b"
      },
      "execution_count": null,
      "outputs": [
        {
          "output_type": "execute_result",
          "data": {
            "text/plain": [
              "(tensor(91), tensor(91))"
            ]
          },
          "metadata": {},
          "execution_count": 54
        }
      ]
    },
    {
      "cell_type": "code",
      "source": [
        "# Find the mean - note: the torch.mean() function requires a tensor of float32 datatype to work\n",
        "torch.mean(x.type(torch.float32)), x.type(torch.float32).mean()"
      ],
      "metadata": {
        "colab": {
          "base_uri": "https://localhost:8080/"
        },
        "id": "WcsqWIGSChKx",
        "outputId": "c25ff934-c8d6-461d-e855-b7fdfb7ba166"
      },
      "execution_count": null,
      "outputs": [
        {
          "output_type": "execute_result",
          "data": {
            "text/plain": [
              "(tensor(46.), tensor(46.))"
            ]
          },
          "metadata": {},
          "execution_count": 55
        }
      ]
    },
    {
      "cell_type": "code",
      "source": [
        "# Find the sum\n",
        "torch.sum(x), x.sum()"
      ],
      "metadata": {
        "colab": {
          "base_uri": "https://localhost:8080/"
        },
        "id": "JrPBYAt6CkZZ",
        "outputId": "8cb64bce-33e5-4792-a58b-f51ed17a2332"
      },
      "execution_count": null,
      "outputs": [
        {
          "output_type": "execute_result",
          "data": {
            "text/plain": [
              "(tensor(460), tensor(460))"
            ]
          },
          "metadata": {},
          "execution_count": 56
        }
      ]
    },
    {
      "cell_type": "markdown",
      "source": [
        "## Finding the positional min and max"
      ],
      "metadata": {
        "id": "5uXOFX7RDVI1"
      }
    },
    {
      "cell_type": "code",
      "source": [
        "x"
      ],
      "metadata": {
        "colab": {
          "base_uri": "https://localhost:8080/"
        },
        "id": "TwAx6-wNEA1X",
        "outputId": "6a0e7068-9563-4cd2-b6db-4fdd804aeb05"
      },
      "execution_count": null,
      "outputs": [
        {
          "output_type": "execute_result",
          "data": {
            "text/plain": [
              "tensor([ 1, 11, 21, 31, 41, 51, 61, 71, 81, 91])"
            ]
          },
          "metadata": {},
          "execution_count": 57
        }
      ]
    },
    {
      "cell_type": "code",
      "source": [
        "# Find the position in tensor that has the minimum value with argmin() -> returns index position of target tensor where the minimum value occurs\n",
        "x.argmin()"
      ],
      "metadata": {
        "colab": {
          "base_uri": "https://localhost:8080/"
        },
        "id": "JqPhz38pEBj1",
        "outputId": "5afcdf7c-42d2-403d-abd5-99e4e7910cd4"
      },
      "execution_count": null,
      "outputs": [
        {
          "output_type": "execute_result",
          "data": {
            "text/plain": [
              "tensor(0)"
            ]
          },
          "metadata": {},
          "execution_count": 58
        }
      ]
    },
    {
      "cell_type": "code",
      "source": [
        "x[0]"
      ],
      "metadata": {
        "colab": {
          "base_uri": "https://localhost:8080/"
        },
        "id": "MAoNlsKxECvz",
        "outputId": "7851d4cc-5006-471d-f96d-be569af899d1"
      },
      "execution_count": null,
      "outputs": [
        {
          "output_type": "execute_result",
          "data": {
            "text/plain": [
              "tensor(1)"
            ]
          },
          "metadata": {},
          "execution_count": 59
        }
      ]
    },
    {
      "cell_type": "code",
      "source": [
        "# Find the position in tensor that has the maximum value with argmax()\n",
        "x.argmax()"
      ],
      "metadata": {
        "colab": {
          "base_uri": "https://localhost:8080/"
        },
        "id": "tvy4-_6VEDl8",
        "outputId": "21df4d7c-a298-4305-fa4e-8aa552d3af9b"
      },
      "execution_count": null,
      "outputs": [
        {
          "output_type": "execute_result",
          "data": {
            "text/plain": [
              "tensor(9)"
            ]
          },
          "metadata": {},
          "execution_count": 60
        }
      ]
    },
    {
      "cell_type": "code",
      "source": [
        "x[9]"
      ],
      "metadata": {
        "colab": {
          "base_uri": "https://localhost:8080/"
        },
        "id": "pCmUgRAVEgRu",
        "outputId": "c9da6d73-0b5c-4f2b-fe5f-250104c5e471"
      },
      "execution_count": null,
      "outputs": [
        {
          "output_type": "execute_result",
          "data": {
            "text/plain": [
              "tensor(91)"
            ]
          },
          "metadata": {},
          "execution_count": 61
        }
      ]
    },
    {
      "cell_type": "markdown",
      "source": [
        "## Reshaping, stacking, squeezing and unsqueezing tensors\n",
        "\n",
        "* Reshaping - reshapes an input tensor to a defined shape\n",
        "* View - Return a view of an input tensor of certain shape but keep the same memory as the original tensor\n",
        "* Stacking - combine multiple tensors on top of each other (vstack) or side by side (hstack)\n",
        "* Squeeze - removes all `1` dimensions from a tensor\n",
        "* Unsqueeze - add a `1` dimension to a target tensor\n",
        "* Permute - Return a view of the input with dimensions permuted (swapped) in a certain way"
      ],
      "metadata": {
        "id": "QdSRjVSWEhoK"
      }
    },
    {
      "cell_type": "code",
      "source": [
        "# Let's create a tensor\n",
        "import torch\n",
        "x = torch.arange(1., 10.)\n",
        "x, x.shape"
      ],
      "metadata": {
        "colab": {
          "base_uri": "https://localhost:8080/"
        },
        "id": "fqTQxhLvFy09",
        "outputId": "85c628c8-dda9-4b55-8f13-f8d3cd60fb9d"
      },
      "execution_count": null,
      "outputs": [
        {
          "output_type": "execute_result",
          "data": {
            "text/plain": [
              "(tensor([1., 2., 3., 4., 5., 6., 7., 8., 9.]), torch.Size([9]))"
            ]
          },
          "metadata": {},
          "execution_count": 62
        }
      ]
    },
    {
      "cell_type": "code",
      "source": [
        "# Add an extra dimension\n",
        "x_reshaped = x.reshape(1, 9)\n",
        "x_reshaped, x_reshaped.shape"
      ],
      "metadata": {
        "colab": {
          "base_uri": "https://localhost:8080/"
        },
        "id": "7ipvb6ThF-SK",
        "outputId": "5db53642-80fd-49a8-bc2b-81ca7606ff5c"
      },
      "execution_count": null,
      "outputs": [
        {
          "output_type": "execute_result",
          "data": {
            "text/plain": [
              "(tensor([[1., 2., 3., 4., 5., 6., 7., 8., 9.]]), torch.Size([1, 9]))"
            ]
          },
          "metadata": {},
          "execution_count": 63
        }
      ]
    },
    {
      "cell_type": "code",
      "source": [
        "# Change the view\n",
        "z = x.view(1, 9)\n",
        "z, z.shape"
      ],
      "metadata": {
        "colab": {
          "base_uri": "https://localhost:8080/"
        },
        "id": "AziUK9uvGKIJ",
        "outputId": "65571be2-dd7d-436a-e9c4-a74037eb7f66"
      },
      "execution_count": null,
      "outputs": [
        {
          "output_type": "execute_result",
          "data": {
            "text/plain": [
              "(tensor([[1., 2., 3., 4., 5., 6., 7., 8., 9.]]), torch.Size([1, 9]))"
            ]
          },
          "metadata": {},
          "execution_count": 64
        }
      ]
    },
    {
      "cell_type": "code",
      "source": [
        "# Changing z changes x (because a view of a tensor shares the same memory as the original tensor)\n",
        "z[:, 0] = 5\n",
        "z, x"
      ],
      "metadata": {
        "colab": {
          "base_uri": "https://localhost:8080/"
        },
        "id": "gwY8csybG8jS",
        "outputId": "87ffbe54-7985-4fa0-e022-f7fa53e08ee4"
      },
      "execution_count": null,
      "outputs": [
        {
          "output_type": "execute_result",
          "data": {
            "text/plain": [
              "(tensor([[5., 2., 3., 4., 5., 6., 7., 8., 9.]]),\n",
              " tensor([5., 2., 3., 4., 5., 6., 7., 8., 9.]))"
            ]
          },
          "metadata": {},
          "execution_count": 65
        }
      ]
    },
    {
      "cell_type": "code",
      "source": [
        "# Stack tensors on top of each other\n",
        "x_stacked = torch.stack([x, x, x, x], dim=0)\n",
        "x_stacked"
      ],
      "metadata": {
        "colab": {
          "base_uri": "https://localhost:8080/"
        },
        "id": "0ziJ2oanHInG",
        "outputId": "c77624bb-e6e8-4bf8-a23f-b6d445fc2734"
      },
      "execution_count": null,
      "outputs": [
        {
          "output_type": "execute_result",
          "data": {
            "text/plain": [
              "tensor([[5., 2., 3., 4., 5., 6., 7., 8., 9.],\n",
              "        [5., 2., 3., 4., 5., 6., 7., 8., 9.],\n",
              "        [5., 2., 3., 4., 5., 6., 7., 8., 9.],\n",
              "        [5., 2., 3., 4., 5., 6., 7., 8., 9.]])"
            ]
          },
          "metadata": {},
          "execution_count": 66
        }
      ]
    },
    {
      "cell_type": "code",
      "source": [
        "# torch.squeeze() - removes all single dimensions from a target tensor\n",
        "print(f\"Previous tensor: {x_reshaped}\")\n",
        "print(f\"Previous shape: {x_reshaped.shape}\")\n",
        "\n",
        "# Remove extra dimensions from x_reshaped\n",
        "x_squeezed = x_reshaped.squeeze()\n",
        "print(f\"\\nNew tensor: {x_squeezed}\")\n",
        "print(f\"New shape: {x_squeezed.shape}\")"
      ],
      "metadata": {
        "colab": {
          "base_uri": "https://localhost:8080/"
        },
        "id": "GCmPWh4sHf-W",
        "outputId": "c397db52-f97d-4172-d809-307a9c385204"
      },
      "execution_count": null,
      "outputs": [
        {
          "output_type": "stream",
          "name": "stdout",
          "text": [
            "Previous tensor: tensor([[5., 2., 3., 4., 5., 6., 7., 8., 9.]])\n",
            "Previous shape: torch.Size([1, 9])\n",
            "\n",
            "New tensor: tensor([5., 2., 3., 4., 5., 6., 7., 8., 9.])\n",
            "New shape: torch.Size([9])\n"
          ]
        }
      ]
    },
    {
      "cell_type": "code",
      "source": [
        "# torch.unsqueeze() - adds a single dimension to a target tensor at a specific dim (dimension)\n",
        "print(f\"Previous target: {x_squeezed}\")\n",
        "print(f\"Previous shape: {x_squeezed.shape}\")\n",
        "\n",
        "# Add an extra dimension with unsqueeze\n",
        "x_unsqueezed = x_squeezed.unsqueeze(dim=0)\n",
        "print(f\"\\nNew tensor: {x_unsqueezed}\")\n",
        "print(f\"New shape: {x_unsqueezed.shape}\")"
      ],
      "metadata": {
        "colab": {
          "base_uri": "https://localhost:8080/"
        },
        "id": "0Eq3nvlhNu8I",
        "outputId": "83d995d8-815b-4213-aef1-eeb87215e203"
      },
      "execution_count": null,
      "outputs": [
        {
          "output_type": "stream",
          "name": "stdout",
          "text": [
            "Previous target: tensor([5., 2., 3., 4., 5., 6., 7., 8., 9.])\n",
            "Previous shape: torch.Size([9])\n",
            "\n",
            "New tensor: tensor([[5., 2., 3., 4., 5., 6., 7., 8., 9.]])\n",
            "New shape: torch.Size([1, 9])\n"
          ]
        }
      ]
    },
    {
      "cell_type": "code",
      "source": [
        "# torch.permute - rearranges the dimensions of a target tensor in a specified order\n",
        "x_original = torch.rand(size=(224, 224, 3)) # [height, width, color_channels]\n",
        "\n",
        "# Permute the original tensor to rearrange the axis (or dim) order\n",
        "x_permuted = x_original.permute(2, 0, 1) # shifts axis 0->1, 1->2, 2->0\n",
        "\n",
        "print(f\"Previous shape: {x_original.shape}\")\n",
        "print(f\"New shape: {x_permuted.shape}\") # [color_channels, height, width]"
      ],
      "metadata": {
        "colab": {
          "base_uri": "https://localhost:8080/"
        },
        "id": "GWWZAlqXPso0",
        "outputId": "464be68b-2dcb-4376-cb46-89a630d8c2c2"
      },
      "execution_count": null,
      "outputs": [
        {
          "output_type": "stream",
          "name": "stdout",
          "text": [
            "Previous shape: torch.Size([224, 224, 3])\n",
            "New shape: torch.Size([3, 224, 224])\n"
          ]
        }
      ]
    },
    {
      "cell_type": "code",
      "source": [
        "x_original[0, 0, 0] = 79423"
      ],
      "metadata": {
        "id": "eor7Z3ZxQ3ET"
      },
      "execution_count": null,
      "outputs": []
    },
    {
      "cell_type": "code",
      "source": [
        "x_original[0, 0, 0], x_permuted[0, 0, 0]"
      ],
      "metadata": {
        "colab": {
          "base_uri": "https://localhost:8080/"
        },
        "id": "0AZgRXPqQ-F-",
        "outputId": "35f0bbcd-23a5-4df7-a370-ac6ed5fc6685"
      },
      "execution_count": null,
      "outputs": [
        {
          "output_type": "execute_result",
          "data": {
            "text/plain": [
              "(tensor(79423.), tensor(79423.))"
            ]
          },
          "metadata": {},
          "execution_count": 77
        }
      ]
    },
    {
      "cell_type": "code",
      "source": [
        "x_reshaped.squeeze()"
      ],
      "metadata": {
        "colab": {
          "base_uri": "https://localhost:8080/"
        },
        "id": "5xnBCT16NwHe",
        "outputId": "f5edb8ac-1794-430d-f9fa-841a1a19d99e"
      },
      "execution_count": null,
      "outputs": [
        {
          "output_type": "execute_result",
          "data": {
            "text/plain": [
              "tensor([5., 2., 3., 4., 5., 6., 7., 8., 9.])"
            ]
          },
          "metadata": {},
          "execution_count": 69
        }
      ]
    },
    {
      "cell_type": "code",
      "source": [
        "x_reshaped.squeeze().shape"
      ],
      "metadata": {
        "colab": {
          "base_uri": "https://localhost:8080/"
        },
        "id": "Ed6ZEt-lNxvL",
        "outputId": "85a27375-b7d1-4ed1-e65f-f6051b9d5207"
      },
      "execution_count": null,
      "outputs": [
        {
          "output_type": "execute_result",
          "data": {
            "text/plain": [
              "torch.Size([9])"
            ]
          },
          "metadata": {},
          "execution_count": 70
        }
      ]
    },
    {
      "cell_type": "markdown",
      "source": [
        "## Indexing (selecting data from tensors)\n",
        "\n",
        "Indexing with PyTorch is similar to indexing with NumPy."
      ],
      "metadata": {
        "id": "t5ZuvAR0N3xp"
      }
    },
    {
      "cell_type": "code",
      "source": [
        "# Create a tensor\n",
        "import torch\n",
        "x = torch.arange(1, 10).reshape(1, 3, 3)\n",
        "x, x.shape"
      ],
      "metadata": {
        "colab": {
          "base_uri": "https://localhost:8080/"
        },
        "id": "pd3YP1uIdbau",
        "outputId": "623061d8-0fef-4104-9745-537bcc296f65"
      },
      "execution_count": null,
      "outputs": [
        {
          "output_type": "execute_result",
          "data": {
            "text/plain": [
              "(tensor([[[1, 2, 3],\n",
              "          [4, 5, 6],\n",
              "          [7, 8, 9]]]),\n",
              " torch.Size([1, 3, 3]))"
            ]
          },
          "metadata": {},
          "execution_count": 79
        }
      ]
    },
    {
      "cell_type": "code",
      "source": [
        "# Let's index on our new tensor\n",
        "x[0]"
      ],
      "metadata": {
        "colab": {
          "base_uri": "https://localhost:8080/"
        },
        "id": "UAfoz972d2T8",
        "outputId": "3fbb2e11-ec88-45d3-fe20-f5e809f7fd2d"
      },
      "execution_count": null,
      "outputs": [
        {
          "output_type": "execute_result",
          "data": {
            "text/plain": [
              "tensor([[1, 2, 3],\n",
              "        [4, 5, 6],\n",
              "        [7, 8, 9]])"
            ]
          },
          "metadata": {},
          "execution_count": 80
        }
      ]
    },
    {
      "cell_type": "code",
      "source": [
        "# Let's index on middle bracket (dim=1)\n",
        "x[0][0]"
      ],
      "metadata": {
        "colab": {
          "base_uri": "https://localhost:8080/"
        },
        "id": "t2XAphIPd-7e",
        "outputId": "350dd1a2-23a0-4b7f-ca71-2087eda057bf"
      },
      "execution_count": null,
      "outputs": [
        {
          "output_type": "execute_result",
          "data": {
            "text/plain": [
              "tensor([1, 2, 3])"
            ]
          },
          "metadata": {},
          "execution_count": 81
        }
      ]
    },
    {
      "cell_type": "code",
      "source": [
        "# Let's index on the most inner bracket (last dimension)\n",
        "x[0][2][2]"
      ],
      "metadata": {
        "colab": {
          "base_uri": "https://localhost:8080/"
        },
        "id": "iENnn9fveIi2",
        "outputId": "7bc40ed8-810c-48c7-fd0b-de5048967f13"
      },
      "execution_count": null,
      "outputs": [
        {
          "output_type": "execute_result",
          "data": {
            "text/plain": [
              "tensor(9)"
            ]
          },
          "metadata": {},
          "execution_count": 84
        }
      ]
    },
    {
      "cell_type": "code",
      "source": [
        "# You can also use \":\" to select \"all\" of a target dimension\n",
        "x[:, 0]"
      ],
      "metadata": {
        "colab": {
          "base_uri": "https://localhost:8080/"
        },
        "id": "3ZfO7u8AeRCM",
        "outputId": "e3bb8cf4-86d3-4305-d815-4a4f8e743f19"
      },
      "execution_count": null,
      "outputs": [
        {
          "output_type": "execute_result",
          "data": {
            "text/plain": [
              "tensor([[1, 2, 3]])"
            ]
          },
          "metadata": {},
          "execution_count": 85
        }
      ]
    },
    {
      "cell_type": "code",
      "source": [
        "# Get all values of 0th and 1st dimensions but only index 1 of 2nd dimension\n",
        "x[:, :, 1]"
      ],
      "metadata": {
        "colab": {
          "base_uri": "https://localhost:8080/"
        },
        "id": "eIZJ1tl-exoj",
        "outputId": "3aee3afa-43bb-4c1c-935c-4dc7487aa5c2"
      },
      "execution_count": null,
      "outputs": [
        {
          "output_type": "execute_result",
          "data": {
            "text/plain": [
              "tensor([[2, 5, 8]])"
            ]
          },
          "metadata": {},
          "execution_count": 86
        }
      ]
    },
    {
      "cell_type": "code",
      "source": [
        "# Get all values of 0 dimension but only the 1 index value of 1st and 2nd dimension\n",
        "x[:, 1, 1]"
      ],
      "metadata": {
        "colab": {
          "base_uri": "https://localhost:8080/"
        },
        "id": "PIVpnnX7e7Uk",
        "outputId": "df415fec-1a90-474a-e4ff-fc8aa714fdc4"
      },
      "execution_count": null,
      "outputs": [
        {
          "output_type": "execute_result",
          "data": {
            "text/plain": [
              "tensor([5])"
            ]
          },
          "metadata": {},
          "execution_count": 87
        }
      ]
    },
    {
      "cell_type": "code",
      "source": [
        "# Get index 0 of 0th and 1st dimension and all values of 2nd dimension\n",
        "x[0, 0, :]"
      ],
      "metadata": {
        "colab": {
          "base_uri": "https://localhost:8080/"
        },
        "id": "gt3MuO7tfHKq",
        "outputId": "4790aed6-3649-4a37-99d0-f5ea5f55d85f"
      },
      "execution_count": null,
      "outputs": [
        {
          "output_type": "execute_result",
          "data": {
            "text/plain": [
              "tensor([1, 2, 3])"
            ]
          },
          "metadata": {},
          "execution_count": 88
        }
      ]
    },
    {
      "cell_type": "code",
      "source": [
        "# Index on x to return 9\n",
        "print(x[:, 2, 2])\n",
        "\n",
        "# Index on x to return 3, 6, 9\n",
        "print(x[:, :, 2])"
      ],
      "metadata": {
        "colab": {
          "base_uri": "https://localhost:8080/"
        },
        "id": "-aY-3JIYgJgx",
        "outputId": "11107aa6-8564-4ac8-eaa1-86b1638956b0"
      },
      "execution_count": null,
      "outputs": [
        {
          "output_type": "stream",
          "name": "stdout",
          "text": [
            "tensor([9])\n",
            "tensor([[3, 6, 9]])\n"
          ]
        }
      ]
    },
    {
      "cell_type": "markdown",
      "source": [
        "## PyTorch tensors and NumPy\n",
        "\n",
        "NumPy is a popular scientific Python numerical computing library.\n",
        "\n",
        "And because of this, PyTorch has functionality to interact with it.\n",
        "\n",
        "* Data in NumPy, want in PyTorch tensor -> `torch.from_numpy(ndarray)`\n",
        "* PyTorch tensor -> NumPy -> `torch.Tensor.numpy()"
      ],
      "metadata": {
        "id": "EGBJ457th6XJ"
      }
    },
    {
      "cell_type": "code",
      "source": [
        "# NumPy array to tensor\n",
        "import torch\n",
        "import numpy as np\n",
        "\n",
        "array = np.arange(1.0, 8.0)\n",
        "tensor = torch.from_numpy(array) # warning: when converting from numpy -> pytorch, pytorch reflects numpy's default datatype of float64 unless specified otherwise\n",
        "array, tensor"
      ],
      "metadata": {
        "colab": {
          "base_uri": "https://localhost:8080/"
        },
        "id": "DN-0VpvhiqJx",
        "outputId": "f8df0b16-9b38-4b88-837b-9eae575537b6"
      },
      "execution_count": null,
      "outputs": [
        {
          "output_type": "execute_result",
          "data": {
            "text/plain": [
              "(array([1., 2., 3., 4., 5., 6., 7.]), tensor([1., 2., 3., 4., 5., 6., 7.]))"
            ]
          },
          "metadata": {},
          "execution_count": 95
        }
      ]
    },
    {
      "cell_type": "code",
      "source": [
        "# Change the value of array, what will this do to `tensor`?\n",
        "array = array + 1\n",
        "array, tensor"
      ],
      "metadata": {
        "colab": {
          "base_uri": "https://localhost:8080/"
        },
        "id": "OaxobDWTi17k",
        "outputId": "da80a38e-9a86-4bf0-fe64-5b259e1ae847"
      },
      "execution_count": null,
      "outputs": [
        {
          "output_type": "execute_result",
          "data": {
            "text/plain": [
              "(array([2., 3., 4., 5., 6., 7., 8.]), tensor([1., 2., 3., 4., 5., 6., 7.]))"
            ]
          },
          "metadata": {},
          "execution_count": 96
        }
      ]
    },
    {
      "cell_type": "code",
      "source": [
        "# Tensor to NumPy array\n",
        "tensor = torch.ones(7)\n",
        "numpy_tensor = tensor.numpy()\n",
        "tensor, numpy_tensor"
      ],
      "metadata": {
        "colab": {
          "base_uri": "https://localhost:8080/"
        },
        "id": "vSVFjEspi5jL",
        "outputId": "fee4f60a-36bf-48b6-f4cf-b215a5ff432a"
      },
      "execution_count": null,
      "outputs": [
        {
          "output_type": "execute_result",
          "data": {
            "text/plain": [
              "(tensor([1., 1., 1., 1., 1., 1., 1.]),\n",
              " array([1., 1., 1., 1., 1., 1., 1.], dtype=float32))"
            ]
          },
          "metadata": {},
          "execution_count": 98
        }
      ]
    },
    {
      "cell_type": "code",
      "source": [
        "# Change the tensor, what happens to `numpy_tensor`?\n",
        "tensor = tensor + 1\n",
        "tensor, numpy_tensor"
      ],
      "metadata": {
        "colab": {
          "base_uri": "https://localhost:8080/"
        },
        "id": "2h-43hm_j2RK",
        "outputId": "cb812f5e-f45b-4ce6-999c-91ba8a5e104d"
      },
      "execution_count": null,
      "outputs": [
        {
          "output_type": "execute_result",
          "data": {
            "text/plain": [
              "(tensor([2., 2., 2., 2., 2., 2., 2.]),\n",
              " array([1., 1., 1., 1., 1., 1., 1.], dtype=float32))"
            ]
          },
          "metadata": {},
          "execution_count": 100
        }
      ]
    },
    {
      "cell_type": "markdown",
      "source": [
        "## Reproducbility (trying to take random out of random)\n",
        "\n",
        "In short how a neural network learns:\n",
        "\n",
        "`start with random numbers -> tensor operations -> update random numbers to try and make them better representation of the data -> again -> again -> again...`\n",
        "\n",
        "To reduce the randomness in neural networks and PyTorch comes the concept of a **random seed**.\n",
        "\n",
        "Essentially what the random seed does is \"flavour\" the randomness."
      ],
      "metadata": {
        "id": "suF_ug7Jj7OL"
      }
    },
    {
      "cell_type": "code",
      "source": [
        "import torch\n",
        "\n",
        "# Create two random tensors\n",
        "random_tensor_A = torch.rand(3, 4)\n",
        "random_tensor_B = torch.rand(3, 4)\n",
        "\n",
        "print(random_tensor_A)\n",
        "print(random_tensor_B)\n",
        "print(random_tensor_A == random_tensor_B)"
      ],
      "metadata": {
        "colab": {
          "base_uri": "https://localhost:8080/"
        },
        "id": "TY0WIzupkp-J",
        "outputId": "cfaf71d1-a988-4019-87e4-0b5065fdbc06"
      },
      "execution_count": null,
      "outputs": [
        {
          "output_type": "stream",
          "name": "stdout",
          "text": [
            "tensor([[0.8975, 0.8065, 0.2509, 0.9526],\n",
            "        [0.4250, 0.7234, 0.3687, 0.0143],\n",
            "        [0.1452, 0.4600, 0.4714, 0.5893]])\n",
            "tensor([[0.7164, 0.0370, 0.4515, 0.6418],\n",
            "        [0.5441, 0.1728, 0.8607, 0.0329],\n",
            "        [0.2127, 0.4401, 0.9351, 0.3869]])\n",
            "tensor([[False, False, False, False],\n",
            "        [False, False, False, False],\n",
            "        [False, False, False, False]])\n"
          ]
        }
      ]
    },
    {
      "cell_type": "code",
      "source": [
        "# Let's make some random but reproducible tensors\n",
        "import torch\n",
        "\n",
        "# Set the random seed\n",
        "RANDOM_SEED = 42\n",
        "torch.manual_seed(RANDOM_SEED)\n",
        "random_tensor_C = torch.rand(3, 4)\n",
        "\n",
        "torch.manual_seed(RANDOM_SEED)\n",
        "random_tensor_D = torch.rand(3, 4)\n",
        "\n",
        "print(random_tensor_C)\n",
        "print(random_tensor_D)\n",
        "print(random_tensor_C == random_tensor_D)"
      ],
      "metadata": {
        "colab": {
          "base_uri": "https://localhost:8080/"
        },
        "id": "hrGR2Dt5kvix",
        "outputId": "ad4e59f4-01a0-48aa-a3c8-53b3a441f267"
      },
      "execution_count": null,
      "outputs": [
        {
          "output_type": "stream",
          "name": "stdout",
          "text": [
            "tensor([[0.8823, 0.9150, 0.3829, 0.9593],\n",
            "        [0.3904, 0.6009, 0.2566, 0.7936],\n",
            "        [0.9408, 0.1332, 0.9346, 0.5936]])\n",
            "tensor([[0.8823, 0.9150, 0.3829, 0.9593],\n",
            "        [0.3904, 0.6009, 0.2566, 0.7936],\n",
            "        [0.9408, 0.1332, 0.9346, 0.5936]])\n",
            "tensor([[True, True, True, True],\n",
            "        [True, True, True, True],\n",
            "        [True, True, True, True]])\n"
          ]
        }
      ]
    },
    {
      "cell_type": "markdown",
      "source": [
        "Extra resources for reproducibilty:\n",
        "\n",
        "* https://pytorch.org/docs/stable/notes/randomness.html\n",
        "* https://en.wikipedia.org/wiki/Random_seed"
      ],
      "metadata": {
        "id": "3Xy8ktYUl_Cx"
      }
    },
    {
      "cell_type": "markdown",
      "source": [
        "## Running tensors and PyTorch objects on the GPUs (and making faster computations)\n",
        "\n",
        "GPUs = faster computation on numbers, thanks to CUDA + NVIDIA hardware + PyTorch working behind the scenes to make everything hunky dory (good)."
      ],
      "metadata": {
        "id": "A_uwDROKmtsH"
      }
    },
    {
      "cell_type": "markdown",
      "source": [
        "### 1. Getting a GPU\n",
        "\n",
        "1. Easiest - Use Google Colab for a free GPU (options to upgrade as well)\n",
        "2. Use your own GPU - takes a little bit of setup and requires the investment of purchasing a GPU, there's a lot of options..., see this post for what option to get: https://timdettmers.com/2023/01/30/which-gpu-for-deep-learning/\n",
        "3. Use cloud computing - GCP, AWS, Azure, these services allow you to rent computers on the cloud and access them\n",
        "\n",
        "For 2, 3 PyTorch + GPU drivers (CUDA) takes a little bit of setting up, to do this, refer to PyTorch setup documentation: https://pytorch.org/get-started/locally/"
      ],
      "metadata": {
        "id": "Txu-oT76nE4p"
      }
    },
    {
      "cell_type": "code",
      "source": [
        "!nvidia-smi"
      ],
      "metadata": {
        "id": "qdfTBf-xoFVY"
      },
      "execution_count": null,
      "outputs": []
    },
    {
      "cell_type": "markdown",
      "source": [
        "### 2. Check for GPU access with PyTorch"
      ],
      "metadata": {
        "id": "wCfb1p_zo7MX"
      }
    },
    {
      "cell_type": "code",
      "source": [
        "# Check for GPU access with PyTorch\n",
        "import torch\n",
        "torch.cuda.is_available()"
      ],
      "metadata": {
        "colab": {
          "base_uri": "https://localhost:8080/"
        },
        "id": "o0h4f3fTpC6S",
        "outputId": "0c68203d-faf7-4b9b-c5a6-62261c15440a"
      },
      "execution_count": null,
      "outputs": [
        {
          "output_type": "execute_result",
          "data": {
            "text/plain": [
              "False"
            ]
          },
          "metadata": {},
          "execution_count": 108
        }
      ]
    },
    {
      "cell_type": "markdown",
      "source": [
        "For PyTorch since it's capable of running compute on the GPU or CPU, it's best practice to setup device agnostic code: https://pytorch.org/docs/stable/notes/cuda.html#best-practices\n",
        "\n",
        "E.g. run on GPU if available, else default to CPU"
      ],
      "metadata": {
        "id": "olFvkP_CqEFX"
      }
    },
    {
      "cell_type": "code",
      "source": [
        "# Setup device agnostic code\n",
        "device = \"cuda\" if torch.cuda.is_available() else \"cpu\"\n",
        "device"
      ],
      "metadata": {
        "colab": {
          "base_uri": "https://localhost:8080/",
          "height": 35
        },
        "id": "inDOzHHEpZZn",
        "outputId": "34977a04-fdd4-4c97-b42b-e6f5757bf93c"
      },
      "execution_count": null,
      "outputs": [
        {
          "output_type": "execute_result",
          "data": {
            "text/plain": [
              "'cpu'"
            ],
            "application/vnd.google.colaboratory.intrinsic+json": {
              "type": "string"
            }
          },
          "metadata": {},
          "execution_count": 109
        }
      ]
    },
    {
      "cell_type": "code",
      "source": [
        "# Count number of devices\n",
        "torch.cuda.device_count()"
      ],
      "metadata": {
        "colab": {
          "base_uri": "https://localhost:8080/"
        },
        "id": "9-G3RJtUprzd",
        "outputId": "464a0124-4f36-4fbc-eb31-dccaf190834b"
      },
      "execution_count": null,
      "outputs": [
        {
          "output_type": "execute_result",
          "data": {
            "text/plain": [
              "0"
            ]
          },
          "metadata": {},
          "execution_count": 110
        }
      ]
    },
    {
      "cell_type": "markdown",
      "source": [
        "## 3. Putting tensors (and models) on the GPU\n",
        "\n",
        "The reason we want our tensor/models on the GPU is because using a GPU results in faster computations."
      ],
      "metadata": {
        "id": "cyGbh6BGpzwO"
      }
    },
    {
      "cell_type": "code",
      "source": [
        "# Create a tensor (default on the CPU)\n",
        "tensor = torch.tensor([1, 2, 3])\n",
        "\n",
        "# Tensor not on GPU\n",
        "print(tensor, tensor.device)"
      ],
      "metadata": {
        "colab": {
          "base_uri": "https://localhost:8080/"
        },
        "id": "LVrri3L4qqq7",
        "outputId": "9e478acf-d675-46f4-fa65-72ea5a620234"
      },
      "execution_count": null,
      "outputs": [
        {
          "output_type": "stream",
          "name": "stdout",
          "text": [
            "tensor([1, 2, 3]) cpu\n"
          ]
        }
      ]
    },
    {
      "cell_type": "code",
      "source": [
        "# Move tensor to GPU (if available)\n",
        "tensor_on_gpu = tensor.to(device)\n",
        "tensor_on_gpu"
      ],
      "metadata": {
        "colab": {
          "base_uri": "https://localhost:8080/"
        },
        "id": "rLA3n6HUq4_9",
        "outputId": "d3491086-8e20-4b18-e039-28284f005770"
      },
      "execution_count": null,
      "outputs": [
        {
          "output_type": "execute_result",
          "data": {
            "text/plain": [
              "tensor([1, 2, 3])"
            ]
          },
          "metadata": {},
          "execution_count": 115
        }
      ]
    },
    {
      "cell_type": "markdown",
      "source": [
        "### 4. Moving tensors back to the CPU"
      ],
      "metadata": {
        "id": "jvO7DUUIrFGp"
      }
    },
    {
      "cell_type": "code",
      "source": [
        "# If tensor is on GPU, can't transform it to NumPy\n",
        "tensor_on_gpu.numpy()"
      ],
      "metadata": {
        "colab": {
          "base_uri": "https://localhost:8080/"
        },
        "id": "I4FfOLlSrZrI",
        "outputId": "f6a6f07f-1e2b-4854-d86f-ba05b151d1dd"
      },
      "execution_count": null,
      "outputs": [
        {
          "output_type": "execute_result",
          "data": {
            "text/plain": [
              "array([1, 2, 3])"
            ]
          },
          "metadata": {},
          "execution_count": 116
        }
      ]
    },
    {
      "cell_type": "code",
      "source": [
        "# To fix the GPU tensor with NumPy issue, we can first set it to the CPU\n",
        "tensor_back_on_cpu = tensor_on_gpu.cpu().numpy()\n",
        "tensor_back_on_cpu"
      ],
      "metadata": {
        "colab": {
          "base_uri": "https://localhost:8080/"
        },
        "id": "vUY7-MODrhgX",
        "outputId": "404aeb36-bf24-42f4-ba16-c8899d9fd4f7"
      },
      "execution_count": null,
      "outputs": [
        {
          "output_type": "execute_result",
          "data": {
            "text/plain": [
              "array([1, 2, 3])"
            ]
          },
          "metadata": {},
          "execution_count": 117
        }
      ]
    },
    {
      "cell_type": "code",
      "source": [
        "tensor_on_gpu"
      ],
      "metadata": {
        "colab": {
          "base_uri": "https://localhost:8080/"
        },
        "id": "6qhjMBXmr02-",
        "outputId": "f22007bd-7e5b-4d85-c3c2-11fdd3c19404"
      },
      "execution_count": null,
      "outputs": [
        {
          "output_type": "execute_result",
          "data": {
            "text/plain": [
              "tensor([1, 2, 3])"
            ]
          },
          "metadata": {},
          "execution_count": 118
        }
      ]
    },
    {
      "cell_type": "markdown",
      "source": [
        "## Exercises & Extra-curriculum\n",
        "\n",
        "See exercises for this notebook here: https://www.learnpytorch.io/00_pytorch_fundamentals/#exercises"
      ],
      "metadata": {
        "id": "B6E06sfIr3hs"
      }
    },
    {
      "cell_type": "code",
      "source": [],
      "metadata": {
        "id": "Hk1ccShdsTMX"
      },
      "execution_count": null,
      "outputs": []
    }
  ],
  "metadata": {
    "accelerator": "GPU",
    "colab": {
      "provenance": [],
      "gpuType": "T4",
      "authorship_tag": "ABX9TyMxN1J/Se55r1TRAlYNjirF",
      "include_colab_link": true
    },
    "kernelspec": {
      "display_name": "Python 3",
      "name": "python3"
    },
    "language_info": {
      "name": "python"
    }
  },
  "nbformat": 4,
  "nbformat_minor": 0
}