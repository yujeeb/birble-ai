{
  "nbformat": 4,
  "nbformat_minor": 0,
  "metadata": {
    "colab": {
      "provenance": [],
      "authorship_tag": "ABX9TyPdpMGlELv3m6CZjPFVBeVs",
      "include_colab_link": true
    },
    "kernelspec": {
      "name": "python3",
      "display_name": "Python 3"
    },
    "language_info": {
      "name": "python"
    }
  },
  "cells": [
    {
      "cell_type": "markdown",
      "metadata": {
        "id": "view-in-github",
        "colab_type": "text"
      },
      "source": [
        "<a href=\"https://colab.research.google.com/github/yujeeb/birble-ai/blob/main/web_scraping/web_scraping_tutorial.ipynb\" target=\"_parent\"><img src=\"https://colab.research.google.com/assets/colab-badge.svg\" alt=\"Open In Colab\"/></a>"
      ]
    },
    {
      "cell_type": "markdown",
      "source": [
        "## Chapter 1: Scraping a dummy website"
      ],
      "metadata": {
        "id": "1akGNqrXWf13"
      }
    },
    {
      "cell_type": "code",
      "execution_count": null,
      "metadata": {
        "colab": {
          "base_uri": "https://localhost:8080/"
        },
        "id": "gY71g12qTlMS",
        "outputId": "d7e4051d-b651-4529-fed1-96b623e5d66e"
      },
      "outputs": [
        {
          "output_type": "stream",
          "name": "stdout",
          "text": [
            "Requirement already satisfied: beautifulsoup4 in /usr/local/lib/python3.10/dist-packages (4.12.3)\n",
            "Requirement already satisfied: soupsieve>1.2 in /usr/local/lib/python3.10/dist-packages (from beautifulsoup4) (2.5)\n"
          ]
        }
      ],
      "source": [
        "!pip install beautifulsoup4"
      ]
    },
    {
      "cell_type": "code",
      "source": [
        "!pip install lxml"
      ],
      "metadata": {
        "colab": {
          "base_uri": "https://localhost:8080/"
        },
        "id": "cBpNy18NVJy7",
        "outputId": "afa11583-3b18-4de5-e995-d50b3dcf8321"
      },
      "execution_count": null,
      "outputs": [
        {
          "output_type": "stream",
          "name": "stdout",
          "text": [
            "Requirement already satisfied: lxml in /usr/local/lib/python3.10/dist-packages (4.9.4)\n"
          ]
        }
      ]
    },
    {
      "cell_type": "code",
      "source": [
        "from bs4 import BeautifulSoup\n",
        "\n",
        "with open('home.html', 'r') as html_file:\n",
        "  content = html_file.read()\n",
        "  print(content)"
      ],
      "metadata": {
        "colab": {
          "base_uri": "https://localhost:8080/"
        },
        "id": "VAfDCXlPVQbW",
        "outputId": "1116d068-fe1b-41a8-97e4-d526fc4ba505"
      },
      "execution_count": null,
      "outputs": [
        {
          "output_type": "stream",
          "name": "stdout",
          "text": [
            "<!doctype html>\n",
            "<html lang=\"en\">\n",
            "   <head>\n",
            "      <meta charset=\"utf-8\">\n",
            "      <meta name=\"viewport\" content=\"width=device-width, initial-scale=1, shrink-to-fit=no\">\n",
            "      <link rel=\"stylesheet\" href=\"https://stackpath.bootstrapcdn.com/bootstrap/4.5.2/css/bootstrap.min.css\" integrity=\"sha384-JcKb8q3iqJ61gNV9KGb8thSsNjpSL0n8PARn9HuZOnIxN0hoP+VmmDGMN5t9UJ0Z\" crossorigin=\"anonymous\">\n",
            "      <title>My Courses</title>\n",
            "   </head>\n",
            "   <body>\n",
            "      <h1>Hello, Start Learning!</h1>\n",
            "      <div class=\"card\" id=\"card-python-for-beginners\">\n",
            "         <div class=\"card-header\">\n",
            "            Python\n",
            "         </div>\n",
            "         <div class=\"card-body\">\n",
            "            <h5 class=\"card-title\">Python for beginners</h5>\n",
            "            <p class=\"card-text\">If you are new to Python, this is the course that you should buy!</p>\n",
            "            <a href=\"#\" class=\"btn btn-primary\">Start for 20$</a>\n",
            "         </div>\n",
            "      </div>\n",
            "      <div class=\"card\" id=\"card-python-web-development\">\n",
            "         <div class=\"card-header\">\n",
            "            Python\n",
            "         </div>\n",
            "         <div class=\"card-body\">\n",
            "            <h5 class=\"card-title\">Python Web Development</h5>\n",
            "            <p class=\"card-text\">If you feel enough confident with python, you are ready to learn how to create your own website!</p>\n",
            "            <a href=\"#\" class=\"btn btn-primary\">Start for 50$</a>\n",
            "         </div>\n",
            "      </div>\n",
            "      <div class=\"card\" id=\"card-python-machine-learning\">\n",
            "         <div class=\"card-header\">\n",
            "            Python\n",
            "         </div>\n",
            "         <div class=\"card-body\">\n",
            "            <h5 class=\"card-title\">Python Machine Learning</h5>\n",
            "            <p class=\"card-text\">Become a Python Machine Learning master!</p>\n",
            "            <a href=\"#\" class=\"btn btn-primary\">Start for 100$</a>\n",
            "         </div>\n",
            "      </div>\n",
            "   </body>\n",
            "</html>\n"
          ]
        }
      ]
    },
    {
      "cell_type": "code",
      "source": [
        "with open('home.html', 'r') as html_file:\n",
        "  content = html_file.read()\n",
        "\n",
        "  soup = BeautifulSoup(content, 'lxml')\n",
        "  print(soup.prettify())"
      ],
      "metadata": {
        "colab": {
          "base_uri": "https://localhost:8080/"
        },
        "id": "D6zUzce5WnMQ",
        "outputId": "a08ea176-c093-40b5-84c8-b007aa561c25"
      },
      "execution_count": null,
      "outputs": [
        {
          "output_type": "stream",
          "name": "stdout",
          "text": [
            "<!DOCTYPE html>\n",
            "<html lang=\"en\">\n",
            " <head>\n",
            "  <meta charset=\"utf-8\"/>\n",
            "  <meta content=\"width=device-width, initial-scale=1, shrink-to-fit=no\" name=\"viewport\"/>\n",
            "  <link crossorigin=\"anonymous\" href=\"https://stackpath.bootstrapcdn.com/bootstrap/4.5.2/css/bootstrap.min.css\" integrity=\"sha384-JcKb8q3iqJ61gNV9KGb8thSsNjpSL0n8PARn9HuZOnIxN0hoP+VmmDGMN5t9UJ0Z\" rel=\"stylesheet\"/>\n",
            "  <title>\n",
            "   My Courses\n",
            "  </title>\n",
            " </head>\n",
            " <body>\n",
            "  <h1>\n",
            "   Hello, Start Learning!\n",
            "  </h1>\n",
            "  <div class=\"card\" id=\"card-python-for-beginners\">\n",
            "   <div class=\"card-header\">\n",
            "    Python\n",
            "   </div>\n",
            "   <div class=\"card-body\">\n",
            "    <h5 class=\"card-title\">\n",
            "     Python for beginners\n",
            "    </h5>\n",
            "    <p class=\"card-text\">\n",
            "     If you are new to Python, this is the course that you should buy!\n",
            "    </p>\n",
            "    <a class=\"btn btn-primary\" href=\"#\">\n",
            "     Start for 20$\n",
            "    </a>\n",
            "   </div>\n",
            "  </div>\n",
            "  <div class=\"card\" id=\"card-python-web-development\">\n",
            "   <div class=\"card-header\">\n",
            "    Python\n",
            "   </div>\n",
            "   <div class=\"card-body\">\n",
            "    <h5 class=\"card-title\">\n",
            "     Python Web Development\n",
            "    </h5>\n",
            "    <p class=\"card-text\">\n",
            "     If you feel enough confident with python, you are ready to learn how to create your own website!\n",
            "    </p>\n",
            "    <a class=\"btn btn-primary\" href=\"#\">\n",
            "     Start for 50$\n",
            "    </a>\n",
            "   </div>\n",
            "  </div>\n",
            "  <div class=\"card\" id=\"card-python-machine-learning\">\n",
            "   <div class=\"card-header\">\n",
            "    Python\n",
            "   </div>\n",
            "   <div class=\"card-body\">\n",
            "    <h5 class=\"card-title\">\n",
            "     Python Machine Learning\n",
            "    </h5>\n",
            "    <p class=\"card-text\">\n",
            "     Become a Python Machine Learning master!\n",
            "    </p>\n",
            "    <a class=\"btn btn-primary\" href=\"#\">\n",
            "     Start for 100$\n",
            "    </a>\n",
            "   </div>\n",
            "  </div>\n",
            " </body>\n",
            "</html>\n",
            "\n"
          ]
        }
      ]
    },
    {
      "cell_type": "code",
      "source": [
        "with open('home.html', 'r') as html_file:\n",
        "  content = html_file.read()\n",
        "\n",
        "  soup = BeautifulSoup(content, 'lxml')\n",
        "  tags = soup.find('h5')\n",
        "  print(tags)"
      ],
      "metadata": {
        "colab": {
          "base_uri": "https://localhost:8080/"
        },
        "id": "J1vKwtudWoft",
        "outputId": "0cf4d5ed-3515-4ba5-a108-ac55e00c5a89"
      },
      "execution_count": null,
      "outputs": [
        {
          "output_type": "stream",
          "name": "stdout",
          "text": [
            "<h5 class=\"card-title\">Python for beginners</h5>\n"
          ]
        }
      ]
    },
    {
      "cell_type": "code",
      "source": [
        "with open('home.html', 'r') as html_file:\n",
        "  content = html_file.read()\n",
        "\n",
        "  soup = BeautifulSoup(content, 'lxml')\n",
        "  tags = soup.find_all('h5')\n",
        "  print(tags)"
      ],
      "metadata": {
        "colab": {
          "base_uri": "https://localhost:8080/"
        },
        "id": "rbFWiLbXWocV",
        "outputId": "d22f20a8-7948-4a1e-85c7-dea4f59b3f97"
      },
      "execution_count": null,
      "outputs": [
        {
          "output_type": "stream",
          "name": "stdout",
          "text": [
            "[<h5 class=\"card-title\">Python for beginners</h5>, <h5 class=\"card-title\">Python Web Development</h5>, <h5 class=\"card-title\">Python Machine Learning</h5>]\n"
          ]
        }
      ]
    },
    {
      "cell_type": "code",
      "source": [
        "with open('home.html', 'r') as html_file:\n",
        "  content = html_file.read()\n",
        "\n",
        "  soup = BeautifulSoup(content, 'lxml')\n",
        "  courses_html_tags = soup.find_all('h5')\n",
        "  for course in courses_html_tags:\n",
        "    print(course.text)"
      ],
      "metadata": {
        "colab": {
          "base_uri": "https://localhost:8080/"
        },
        "id": "UZksO-8lWlDV",
        "outputId": "0ef4d1f4-c1aa-436f-a12b-cd44d70ba148"
      },
      "execution_count": null,
      "outputs": [
        {
          "output_type": "stream",
          "name": "stdout",
          "text": [
            "Python for beginners\n",
            "Python Web Development\n",
            "Python Machine Learning\n"
          ]
        }
      ]
    },
    {
      "cell_type": "code",
      "source": [
        "with open('home.html', 'r') as html_file:\n",
        "  content = html_file.read()\n",
        "\n",
        "  soup = BeautifulSoup(content, 'lxml')\n",
        "  course_cards = soup.find_all('div', class_='card')\n",
        "  for course in course_cards:\n",
        "    print(course)"
      ],
      "metadata": {
        "colab": {
          "base_uri": "https://localhost:8080/"
        },
        "id": "ACpZNxEaX7AY",
        "outputId": "278bde23-9f06-4b39-edb1-69b26d4ed6f0"
      },
      "execution_count": null,
      "outputs": [
        {
          "output_type": "stream",
          "name": "stdout",
          "text": [
            "<div class=\"card\" id=\"card-python-for-beginners\">\n",
            "<div class=\"card-header\">\n",
            "            Python\n",
            "         </div>\n",
            "<div class=\"card-body\">\n",
            "<h5 class=\"card-title\">Python for beginners</h5>\n",
            "<p class=\"card-text\">If you are new to Python, this is the course that you should buy!</p>\n",
            "<a class=\"btn btn-primary\" href=\"#\">Start for 20$</a>\n",
            "</div>\n",
            "</div>\n",
            "<div class=\"card\" id=\"card-python-web-development\">\n",
            "<div class=\"card-header\">\n",
            "            Python\n",
            "         </div>\n",
            "<div class=\"card-body\">\n",
            "<h5 class=\"card-title\">Python Web Development</h5>\n",
            "<p class=\"card-text\">If you feel enough confident with python, you are ready to learn how to create your own website!</p>\n",
            "<a class=\"btn btn-primary\" href=\"#\">Start for 50$</a>\n",
            "</div>\n",
            "</div>\n",
            "<div class=\"card\" id=\"card-python-machine-learning\">\n",
            "<div class=\"card-header\">\n",
            "            Python\n",
            "         </div>\n",
            "<div class=\"card-body\">\n",
            "<h5 class=\"card-title\">Python Machine Learning</h5>\n",
            "<p class=\"card-text\">Become a Python Machine Learning master!</p>\n",
            "<a class=\"btn btn-primary\" href=\"#\">Start for 100$</a>\n",
            "</div>\n",
            "</div>\n"
          ]
        }
      ]
    },
    {
      "cell_type": "code",
      "source": [
        "with open('home.html', 'r') as html_file:\n",
        "  content = html_file.read()\n",
        "\n",
        "  soup = BeautifulSoup(content, 'lxml')\n",
        "  course_cards = soup.find_all('div', class_='card')\n",
        "  for course in course_cards:\n",
        "    print(course.h5)"
      ],
      "metadata": {
        "colab": {
          "base_uri": "https://localhost:8080/"
        },
        "id": "z24B0xZCZBpY",
        "outputId": "b7661e5d-bdbc-43f1-9d5f-25b3b4b4c969"
      },
      "execution_count": null,
      "outputs": [
        {
          "output_type": "stream",
          "name": "stdout",
          "text": [
            "<h5 class=\"card-title\">Python for beginners</h5>\n",
            "<h5 class=\"card-title\">Python Web Development</h5>\n",
            "<h5 class=\"card-title\">Python Machine Learning</h5>\n"
          ]
        }
      ]
    },
    {
      "cell_type": "code",
      "source": [
        "with open('home.html', 'r') as html_file:\n",
        "  content = html_file.read()\n",
        "\n",
        "  soup = BeautifulSoup(content, 'lxml')\n",
        "  course_cards = soup.find_all('div', class_='card')\n",
        "  for course in course_cards:\n",
        "    course_name = course.h5.text\n",
        "    course_price = course.a.text\n",
        "\n",
        "    print(course_name)\n",
        "    print(course_price)"
      ],
      "metadata": {
        "colab": {
          "base_uri": "https://localhost:8080/"
        },
        "id": "GYXz_o9FZLdo",
        "outputId": "f7c896f5-2d4a-4c77-b133-648ac702bd30"
      },
      "execution_count": null,
      "outputs": [
        {
          "output_type": "stream",
          "name": "stdout",
          "text": [
            "Python for beginners\n",
            "Start for 20$\n",
            "Python Web Development\n",
            "Start for 50$\n",
            "Python Machine Learning\n",
            "Start for 100$\n"
          ]
        }
      ]
    },
    {
      "cell_type": "code",
      "source": [
        "with open('home.html', 'r') as html_file:\n",
        "  content = html_file.read()\n",
        "\n",
        "  soup = BeautifulSoup(content, 'lxml')\n",
        "  course_cards = soup.find_all('div', class_='card')\n",
        "  for course in course_cards:\n",
        "    course_name = course.h5.text\n",
        "    course_price = course.a.text.split()[-1]\n",
        "\n",
        "    print(course_name)\n",
        "    print(course_price)"
      ],
      "metadata": {
        "colab": {
          "base_uri": "https://localhost:8080/"
        },
        "id": "-3o_o4rzZiG0",
        "outputId": "95e851fc-13a6-42db-c336-f2755c5e1b64"
      },
      "execution_count": null,
      "outputs": [
        {
          "output_type": "stream",
          "name": "stdout",
          "text": [
            "Python for beginners\n",
            "20$\n",
            "Python Web Development\n",
            "50$\n",
            "Python Machine Learning\n",
            "100$\n"
          ]
        }
      ]
    },
    {
      "cell_type": "code",
      "source": [
        "with open('home.html', 'r') as html_file:\n",
        "  content = html_file.read()\n",
        "\n",
        "  soup = BeautifulSoup(content, 'lxml')\n",
        "  course_cards = soup.find_all('div', class_='card')\n",
        "  for course in course_cards:\n",
        "    course_name = course.h5.text\n",
        "    course_price = course.a.text.split()[-1]\n",
        "\n",
        "    print(f\"{course_name} costs {course_price}\")"
      ],
      "metadata": {
        "colab": {
          "base_uri": "https://localhost:8080/"
        },
        "id": "JxaxVBaWZvUP",
        "outputId": "54528af5-5731-4fe8-9a4f-e721cc229b3a"
      },
      "execution_count": null,
      "outputs": [
        {
          "output_type": "stream",
          "name": "stdout",
          "text": [
            "Python for beginners costs 20$\n",
            "Python Web Development costs 50$\n",
            "Python Machine Learning costs 100$\n"
          ]
        }
      ]
    },
    {
      "cell_type": "markdown",
      "source": [
        "## Chapter 2: Scraping a real website"
      ],
      "metadata": {
        "id": "r_R9LF6cZ1u8"
      }
    },
    {
      "cell_type": "code",
      "source": [
        "!pip install requests"
      ],
      "metadata": {
        "colab": {
          "base_uri": "https://localhost:8080/"
        },
        "id": "3m8PXSQLaLK8",
        "outputId": "a741c7bf-f700-454d-fe6a-91233086eaff"
      },
      "execution_count": null,
      "outputs": [
        {
          "output_type": "stream",
          "name": "stdout",
          "text": [
            "Requirement already satisfied: requests in /usr/local/lib/python3.10/dist-packages (2.31.0)\n",
            "Requirement already satisfied: charset-normalizer<4,>=2 in /usr/local/lib/python3.10/dist-packages (from requests) (3.3.2)\n",
            "Requirement already satisfied: idna<4,>=2.5 in /usr/local/lib/python3.10/dist-packages (from requests) (3.6)\n",
            "Requirement already satisfied: urllib3<3,>=1.21.1 in /usr/local/lib/python3.10/dist-packages (from requests) (2.0.7)\n",
            "Requirement already satisfied: certifi>=2017.4.17 in /usr/local/lib/python3.10/dist-packages (from requests) (2024.2.2)\n"
          ]
        }
      ]
    },
    {
      "cell_type": "code",
      "source": [
        "from bs4 import BeautifulSoup\n",
        "import requests\n",
        "\n",
        "html_text = requests.get(\"https://www.timesjobs.com/candidate/job-search.html?searchType=personalizedSearch&from=submit&searchTextSrc=ft&searchTextText=&txtKeywords=python&txtLocation=\").text\n",
        "print(html_text)"
      ],
      "metadata": {
        "colab": {
          "base_uri": "https://localhost:8080/"
        },
        "id": "cGEyQy4raCTd",
        "outputId": "114bd663-1dca-4de8-f992-47de39c8bc56"
      },
      "execution_count": null,
      "outputs": [
        {
          "output_type": "stream",
          "name": "stdout",
          "text": [
            "<Response [403]>\n"
          ]
        }
      ]
    },
    {
      "cell_type": "code",
      "source": [
        "url = \"https://www.amazon.in/ASIAN-Wonder-13-Sports-Running-Shoes/dp/B01N54ZM9W/ref=lp_1983518031_1_4\"\n",
        "headers = {\n",
        "  'User-Agent': 'Mozilla/5.0 (Windows NT 10.0; Win64; x64) AppleWebKit/537.36 (KHTML, like Gecko) Chrome/122.0.0.0 Safari/537.36',\n",
        "  'Accept': 'text/html,application/xhtml+xml,application/xml;q=0.9,image/avif,image/webp,/;q=0.8',\n",
        "  'Accept-Language': 'en-US,en;q=0.5',\n",
        "  'Accept-Encoding': 'gzip, deflate, br',\n",
        "  'Connection': 'keep-alive',\n",
        "  'Cookie': 'session-id=260-0003167-6611645; session-id-time=2082787201l; i18n-prefs=INR; csm-hit=tb:s-BJSHAPXX6GXR5B9DB71Q|1708691871626&t:1708691873714&adb:adblkno; ubid-acbin=258-4520566-3761137; session-token=GKGzdaNykDXe57FMdjhhXogsvtxmsza+yu7jhZxJBZG1rhH1jtypga8G1mobRAglQw/wVEMwud1DSyG3lgSU4GJ90GJd07fFFGsLXeQOrDktq0Aa9ed35l5Z7K4sFsKHhh8C2toZiCGKYXEQ9ak+/Rn6ufHn4FtdruF/P9YbMepshxFgq3lnn4xB9gHZCfdW+CQQzyWp677bszmO4h3KTSN+p6fnykqXlHWPTvPAYUN89owOcaUDKo2Kab9E6NfV5reBE0bTr40f3wUchiZ1WaLp7v3IWgcTGoHzbBj4z0xJoTBkIONgOs/sAQ6oYgzJspXRuFekNwGZ0eGVVbmnbuWpLEXrofRr',\n",
        "  'Upgrade-Insecure-Requests': '1',\n",
        "  'Sec-Fetch-Dest': 'document',\n",
        "  'Sec-Fetch-Mode': 'navigate',\n",
        "  'Sec-Fetch-Site': 'cross-site',\n",
        "  'Pragma': 'no-cache',\n",
        "  'Cache-Control': 'no-cache'\n",
        "}\n",
        "response = requests.request(\"GET\", url, headers=headers)\n",
        "print(response)\n",
        "\n",
        "# Try this to get the successful response. Change the first line in header(the one which is highlighted) with your user agent.\n",
        "# You can find it at : https://www.whatismybrowser.com/detect/what-is-my-user-agent/"
      ],
      "metadata": {
        "colab": {
          "base_uri": "https://localhost:8080/"
        },
        "id": "JfHok7NlbEER",
        "outputId": "9dad0512-bf36-4d04-dc7b-a1806218275d"
      },
      "execution_count": null,
      "outputs": [
        {
          "output_type": "stream",
          "name": "stdout",
          "text": [
            "<Response [200]>\n"
          ]
        }
      ]
    },
    {
      "cell_type": "code",
      "source": [
        "html_text = response.text\n",
        "soup = BeautifulSoup(html_text, 'lxml')\n"
      ],
      "metadata": {
        "id": "ujUhNuVjcxfB"
      },
      "execution_count": null,
      "outputs": []
    }
  ]
}